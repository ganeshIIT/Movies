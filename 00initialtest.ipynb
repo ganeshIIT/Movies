{
 "cells": [
  {
   "cell_type": "code",
   "execution_count": 1,
   "metadata": {},
   "outputs": [],
   "source": [
    "import numpy as np\n",
    "import pandas as pd\n",
    "import json\n",
    "import requests\n",
    "from datetime import datetime, timedelta\n",
    "\n",
    "import dataloader\n",
    "import time\n",
    "import helper\n",
    "import pyodbc"
   ]
  },
  {
   "cell_type": "code",
   "execution_count": 2,
   "metadata": {},
   "outputs": [],
   "source": [
    "apikey = helper.get_apikey()"
   ]
  },
  {
   "cell_type": "code",
   "execution_count": 3,
   "metadata": {},
   "outputs": [
    {
     "data": {
      "text/plain": [
       "'12_21_2022'"
      ]
     },
     "execution_count": 3,
     "metadata": {},
     "output_type": "execute_result"
    }
   ],
   "source": [
    "datetime.today()\n",
    "fetchdate = datetime.strftime(datetime.today() - timedelta(days=1), '%m_%d_%Y')\n",
    "fetchdate"
   ]
  },
  {
   "cell_type": "code",
   "execution_count": 3,
   "metadata": {},
   "outputs": [],
   "source": [
    "movies = pd.read_json(f'http://files.tmdb.org/p/exports/movie_ids_{fetchdate}.json.gz', lines=True)\n",
    "persons = pd.read_json(f'http://files.tmdb.org/p/exports/person_ids_{fetchdate}.json.gz', lines=True)\n",
    "companies = pd.read_json(f'http://files.tmdb.org/p/exports/production_company_ids_{fetchdate}.json.gz', lines=True)\n",
    "keywords = pd.read_json(f'http://files.tmdb.org/p/exports/keyword_ids_{fetchdate}.json.gz', lines=True)\n",
    "collections = pd.read_json(f'http://files.tmdb.org/p/exports/collection_ids_{fetchdate}.json.gz', lines=True)\n",
    "tvseries = pd.read_json(f'http://files.tmdb.org/p/exports/tv_series_ids_{fetchdate}.json.gz', lines=True)\n",
    "tvnetwork = pd.read_json(f'http://files.tmdb.org/p/exports/tv_network_ids_{fetchdate}.json.gz', lines=True)"
   ]
  },
  {
   "cell_type": "code",
   "execution_count": 4,
   "metadata": {},
   "outputs": [
    {
     "name": "stdout",
     "output_type": "stream",
     "text": [
      "DataFrame full loaded to Table: MovieIds\n"
     ]
    }
   ],
   "source": [
    "custom = {\"id\": \"INT PRIMARY KEY\", \"original_title\":\"nvarchar(max)\"}\n",
    "dataloader.full_load_with_index(df=movies, tbl=\"MovieIds\", custom=custom)"
   ]
  },
  {
   "cell_type": "code",
   "execution_count": 5,
   "metadata": {},
   "outputs": [
    {
     "name": "stdout",
     "output_type": "stream",
     "text": [
      "DataFrame full loaded to Table: Genres\n"
     ]
    }
   ],
   "source": [
    "dataurl = f'https://api.themoviedb.org/3/genre/movie/list?api_key={apikey}'\n",
    "data = json.loads(requests.get(dataurl).text)\n",
    "# df = pd.json_normalize(data)\n",
    "genres = pd.DataFrame.from_dict(data['genres'])\n",
    "custom = {\"id\": \"INT PRIMARY KEY\",}\n",
    "dataloader.full_load_with_index(df=genres, tbl=\"Genres\", custom=custom)"
   ]
  },
  {
   "cell_type": "code",
   "execution_count": 6,
   "metadata": {},
   "outputs": [
    {
     "name": "stdout",
     "output_type": "stream",
     "text": [
      "DataFrame full loaded to Table: Persons\n"
     ]
    }
   ],
   "source": [
    "custom = {\"id\": \"INT PRIMARY KEY\",}\n",
    "dataloader.full_load_with_index(df=persons, tbl=\"Persons\", custom=custom)\n",
    "del persons"
   ]
  },
  {
   "cell_type": "code",
   "execution_count": 4,
   "metadata": {},
   "outputs": [
    {
     "name": "stdout",
     "output_type": "stream",
     "text": [
      "DataFrame full loaded to Table: Companies\n"
     ]
    }
   ],
   "source": [
    "custom = {\"id\": \"INT PRIMARY KEY\",}\n",
    "dataloader.full_load_with_index(df=companies, tbl=\"Companies\", custom=custom)"
   ]
  },
  {
   "cell_type": "code",
   "execution_count": 8,
   "metadata": {},
   "outputs": [
    {
     "name": "stdout",
     "output_type": "stream",
     "text": [
      "DataFrame full loaded to Table: Keywords\n"
     ]
    }
   ],
   "source": [
    "custom = {\"id\": \"INT PRIMARY KEY\",}\n",
    "dataloader.full_load_with_index(df=keywords, tbl=\"Keywords\", custom=custom)"
   ]
  },
  {
   "cell_type": "code",
   "execution_count": 9,
   "metadata": {},
   "outputs": [
    {
     "name": "stdout",
     "output_type": "stream",
     "text": [
      "DataFrame full loaded to Table: Collections\n"
     ]
    }
   ],
   "source": [
    "custom = {\"id\": \"INT PRIMARY KEY\",}\n",
    "dataloader.full_load_with_index(df=collections, tbl=\"Collections\", custom=custom)"
   ]
  },
  {
   "cell_type": "code",
   "execution_count": 10,
   "metadata": {},
   "outputs": [
    {
     "name": "stdout",
     "output_type": "stream",
     "text": [
      "DataFrame full loaded to Table: TvSeries\n"
     ]
    }
   ],
   "source": [
    "custom = {\"id\": \"INT PRIMARY KEY\",}\n",
    "dataloader.full_load_with_index(df=tvseries, tbl=\"TvSeries\", custom=custom)"
   ]
  },
  {
   "cell_type": "code",
   "execution_count": null,
   "metadata": {},
   "outputs": [],
   "source": [
    "custom = {\"id\": \"INT PRIMARY KEY\",}\n",
    "dataloader.full_load_with_index(df=tvnetwork, tbl=\"TvNetwork\", custom=custom)"
   ]
  },
  {
   "cell_type": "code",
   "execution_count": 4,
   "metadata": {},
   "outputs": [
    {
     "name": "stderr",
     "output_type": "stream",
     "text": [
      "/var/folders/74/ndv7v28d3078l2cq22t43pkc0000gn/T/ipykernel_71533/2405849386.py:5: UserWarning: pandas only supports SQLAlchemy connectable (engine/connection) or database string URI or sqlite3 DBAPI2 connection. Other DBAPI2 objects are not tested. Please consider using SQLAlchemy.\n",
      "  ids = pd.read_sql(query, conn)\n"
     ]
    }
   ],
   "source": [
    "cstring = helper.get_connstring()\n",
    "with pyodbc.connect(cstring) as conn:\n",
    "    # query = \"select id from movieids\"\n",
    "    query = \"select id from movieids where id not in (select id from moviesraw)\"\n",
    "    ids = pd.read_sql(query, conn)"
   ]
  },
  {
   "cell_type": "code",
   "execution_count": 5,
   "metadata": {},
   "outputs": [
    {
     "name": "stdout",
     "output_type": "stream",
     "text": [
      "chunk: 2, Record: 1\n",
      "chunk: 2, Record: 2\n",
      "chunk: 2, Record: 3\n",
      "chunk: 2, Record: 4\n",
      "chunk: 2, Record: 5\n",
      "chunk: 2, Record: 6\n",
      "chunk: 2, Record: 7\n",
      "chunk: 2, Record: 8\n",
      "chunk: 2, Record: 9\n",
      "chunk: 2, Record: 10\n",
      "chunk: 2, Record: 11\n",
      "chunk: 2, Record: 12\n",
      "chunk: 2, Record: 13\n",
      "chunk: 2, Record: 14\n",
      "chunk: 2, Record: 15\n",
      "chunk: 2, Record: 16\n",
      "chunk: 2, Record: 17\n",
      "chunk: 2, Record: 18\n",
      "chunk: 2, Record: 19\n",
      "chunk: 2, Record: 20\n",
      "chunk: 2, Record: 21\n",
      "chunk: 2, Record: 22\n",
      "chunk: 2, Record: 23\n",
      "chunk: 2, Record: 24\n",
      "chunk: 2, Record: 25\n",
      "chunk: 2, Record: 26\n",
      "chunk: 2, Record: 27\n",
      "chunk: 2, Record: 28\n",
      "chunk: 2, Record: 29\n",
      "chunk: 2, Record: 30\n",
      "chunk: 2, Record: 31\n",
      "chunk: 2, Record: 32\n",
      "chunk: 2, Record: 33\n",
      "chunk: 2, Record: 34\n",
      "chunk: 2, Record: 35\n",
      "chunk: 2, Record: 36\n",
      "chunk: 2, Record: 37\n",
      "chunk: 2, Record: 38\n",
      "chunk: 2, Record: 39\n",
      "chunk: 2, Record: 40\n",
      "chunk: 2, Record: 41\n",
      "chunk: 2, Record: 42\n",
      "chunk: 2, Record: 43\n",
      "chunk: 2, Record: 44\n",
      "chunk: 2, Record: 45\n",
      "chunk: 2, Record: 46\n",
      "chunk: 2, Record: 47\n",
      "chunk: 2, Record: 48\n",
      "chunk: 2, Record: 49\n",
      "chunk: 2, Record: 50\n",
      "chunk: 2, Record: 51\n",
      "chunk: 2, Record: 52\n",
      "chunk: 2, Record: 53\n",
      "chunk: 2, Record: 54\n",
      "chunk: 2, Record: 55\n",
      "chunk: 2, Record: 56\n",
      "chunk: 2, Record: 57\n",
      "chunk: 2, Record: 58\n",
      "chunk: 2, Record: 59\n",
      "chunk: 2, Record: 60\n",
      "chunk: 2, Record: 61\n",
      "chunk: 2, Record: 62\n",
      "chunk: 2, Record: 63\n",
      "chunk: 2, Record: 64\n",
      "chunk: 2, Record: 65\n",
      "chunk: 2, Record: 66\n",
      "chunk: 2, Record: 67\n",
      "chunk: 2, Record: 68\n",
      "chunk: 2, Record: 69\n",
      "chunk: 2, Record: 70\n",
      "chunk: 2, Record: 71\n",
      "chunk: 2, Record: 72\n",
      "chunk: 2, Record: 73\n",
      "chunk: 2, Record: 74\n",
      "chunk: 2, Record: 75\n",
      "chunk: 2, Record: 76\n",
      "chunk: 2, Record: 77\n",
      "chunk: 2, Record: 78\n",
      "chunk: 2, Record: 79\n",
      "chunk: 2, Record: 80\n",
      "chunk: 2, Record: 81\n",
      "chunk: 2, Record: 82\n",
      "chunk: 2, Record: 83\n",
      "chunk: 2, Record: 84\n",
      "chunk: 2, Record: 85\n",
      "chunk: 2, Record: 86\n",
      "chunk: 2, Record: 87\n",
      "chunk: 2, Record: 88\n",
      "chunk: 2, Record: 89\n",
      "chunk: 2, Record: 90\n",
      "chunk: 2, Record: 91\n",
      "chunk: 2, Record: 92\n",
      "chunk: 2, Record: 93\n",
      "chunk: 2, Record: 94\n",
      "chunk: 2, Record: 95\n",
      "chunk: 2, Record: 96\n",
      "chunk: 2, Record: 97\n",
      "chunk: 2, Record: 98\n",
      "chunk: 2, Record: 99\n",
      "chunk: 2, Record: 100\n",
      "chunk: 2, Record: 101\n",
      "chunk: 2, Record: 102\n",
      "chunk: 2, Record: 103\n",
      "chunk: 2, Record: 104\n",
      "chunk: 2, Record: 105\n",
      "chunk: 2, Record: 106\n",
      "chunk: 2, Record: 107\n",
      "chunk: 2, Record: 108\n",
      "chunk: 2, Record: 109\n",
      "chunk: 2, Record: 110\n",
      "chunk: 2, Record: 111\n",
      "chunk: 2, Record: 112\n",
      "chunk: 2, Record: 113\n",
      "chunk: 2, Record: 114\n",
      "chunk: 2, Record: 115\n",
      "chunk: 2, Record: 116\n",
      "chunk: 2, Record: 117\n",
      "chunk: 2, Record: 118\n",
      "chunk: 2, Record: 119\n",
      "chunk: 2, Record: 120\n",
      "chunk: 2, Record: 121\n",
      "chunk: 2, Record: 122\n",
      "chunk: 2, Record: 123\n",
      "chunk: 2, Record: 124\n",
      "chunk: 2, Record: 125\n",
      "chunk: 2, Record: 126\n",
      "chunk: 2, Record: 127\n",
      "chunk: 2, Record: 128\n",
      "chunk: 2, Record: 129\n",
      "chunk: 2, Record: 130\n",
      "chunk: 2, Record: 131\n",
      "chunk: 2, Record: 132\n",
      "chunk: 2, Record: 133\n",
      "chunk: 2, Record: 134\n",
      "chunk: 2, Record: 135\n",
      "chunk: 2, Record: 136\n",
      "chunk: 2, Record: 137\n",
      "chunk: 2, Record: 138\n",
      "chunk: 2, Record: 139\n",
      "chunk: 2, Record: 140\n",
      "chunk: 2, Record: 141\n",
      "chunk: 2, Record: 142\n",
      "chunk: 2, Record: 143\n",
      "chunk: 2, Record: 144\n",
      "chunk: 2, Record: 145\n",
      "chunk: 2, Record: 146\n",
      "chunk: 2, Record: 147\n",
      "chunk: 2, Record: 148\n",
      "chunk: 2, Record: 149\n",
      "chunk: 2, Record: 150\n",
      "chunk: 2, Record: 151\n",
      "chunk: 2, Record: 152\n",
      "chunk: 2, Record: 153\n",
      "chunk: 2, Record: 154\n",
      "chunk: 2, Record: 155\n",
      "chunk: 2, Record: 156\n",
      "chunk: 2, Record: 157\n",
      "chunk: 2, Record: 158\n",
      "chunk: 2, Record: 159\n",
      "chunk: 2, Record: 160\n",
      "chunk: 2, Record: 161\n",
      "chunk: 2, Record: 162\n",
      "chunk: 2, Record: 163\n",
      "chunk: 2, Record: 164\n",
      "chunk: 2, Record: 165\n",
      "chunk: 2, Record: 166\n",
      "chunk: 2, Record: 167\n",
      "chunk: 2, Record: 168\n",
      "chunk: 2, Record: 169\n",
      "chunk: 2, Record: 170\n",
      "chunk: 2, Record: 171\n",
      "chunk: 2, Record: 172\n",
      "chunk: 2, Record: 173\n",
      "chunk: 2, Record: 174\n",
      "chunk: 2, Record: 175\n",
      "chunk: 2, Record: 176\n",
      "chunk: 2, Record: 177\n",
      "chunk: 2, Record: 178\n",
      "chunk: 2, Record: 179\n",
      "chunk: 2, Record: 180\n",
      "chunk: 2, Record: 181\n",
      "chunk: 2, Record: 182\n",
      "chunk: 2, Record: 183\n",
      "chunk: 2, Record: 184\n",
      "chunk: 2, Record: 185\n",
      "chunk: 2, Record: 186\n",
      "chunk: 2, Record: 187\n",
      "chunk: 2, Record: 188\n",
      "chunk: 2, Record: 189\n",
      "chunk: 2, Record: 190\n",
      "chunk: 2, Record: 191\n",
      "chunk: 2, Record: 192\n",
      "chunk: 2, Record: 193\n",
      "chunk: 2, Record: 194\n",
      "chunk: 2, Record: 195\n",
      "chunk: 2, Record: 196\n",
      "chunk: 2, Record: 197\n",
      "chunk: 2, Record: 198\n",
      "chunk: 2, Record: 199\n",
      "chunk: 2, Record: 200\n",
      "chunk: 2, Record: 201\n",
      "chunk: 2, Record: 202\n",
      "chunk: 2, Record: 203\n",
      "chunk: 2, Record: 204\n",
      "chunk: 2, Record: 205\n",
      "chunk: 2, Record: 206\n",
      "chunk: 2, Record: 207\n",
      "chunk: 2, Record: 208\n",
      "chunk: 2, Record: 209\n",
      "chunk: 2, Record: 210\n",
      "chunk: 2, Record: 211\n",
      "chunk: 2, Record: 212\n",
      "chunk: 2, Record: 213\n",
      "chunk: 2, Record: 214\n",
      "chunk: 2, Record: 215\n",
      "chunk: 2, Record: 216\n",
      "chunk: 2, Record: 217\n",
      "chunk: 2, Record: 218\n",
      "chunk: 2, Record: 219\n",
      "chunk: 2, Record: 220\n",
      "chunk: 2, Record: 221\n",
      "chunk: 2, Record: 222\n",
      "chunk: 2, Record: 223\n",
      "chunk: 2, Record: 224\n",
      "chunk: 2, Record: 225\n",
      "chunk: 2, Record: 226\n",
      "chunk: 2, Record: 227\n",
      "chunk: 2, Record: 228\n",
      "chunk: 2, Record: 229\n",
      "chunk: 2, Record: 230\n",
      "chunk: 2, Record: 231\n",
      "chunk: 2, Record: 232\n",
      "chunk: 2, Record: 233\n",
      "chunk: 2, Record: 234\n",
      "chunk: 2, Record: 235\n",
      "chunk: 2, Record: 236\n",
      "chunk: 2, Record: 237\n",
      "chunk: 2, Record: 238\n",
      "chunk: 2, Record: 239\n",
      "chunk: 2, Record: 240\n",
      "chunk: 2, Record: 241\n",
      "chunk: 2, Record: 242\n",
      "chunk: 2, Record: 243\n",
      "chunk: 2, Record: 244\n",
      "chunk: 2, Record: 245\n",
      "chunk: 2, Record: 246\n",
      "chunk: 2, Record: 247\n",
      "chunk: 2, Record: 248\n",
      "chunk: 2, Record: 249\n",
      "chunk: 2, Record: 250\n",
      "chunk: 2, Record: 251\n",
      "chunk: 2, Record: 252\n",
      "chunk: 2, Record: 253\n",
      "chunk: 2, Record: 254\n",
      "chunk: 2, Record: 255\n",
      "chunk: 2, Record: 256\n",
      "chunk: 2, Record: 257\n",
      "chunk: 2, Record: 258\n",
      "chunk: 2, Record: 259\n",
      "chunk: 2, Record: 260\n",
      "chunk: 2, Record: 261\n",
      "chunk: 2, Record: 262\n",
      "chunk: 2, Record: 263\n",
      "chunk: 2, Record: 264\n",
      "chunk: 2, Record: 265\n",
      "chunk: 2, Record: 266\n",
      "chunk: 2, Record: 267\n",
      "chunk: 2, Record: 268\n",
      "chunk: 2, Record: 269\n",
      "chunk: 2, Record: 270\n",
      "chunk: 2, Record: 271\n",
      "chunk: 2, Record: 272\n",
      "chunk: 2, Record: 273\n",
      "chunk: 2, Record: 274\n",
      "chunk: 2, Record: 275\n",
      "chunk: 2, Record: 276\n",
      "chunk: 2, Record: 277\n",
      "chunk: 2, Record: 278\n",
      "chunk: 2, Record: 279\n",
      "chunk: 2, Record: 280\n",
      "chunk: 2, Record: 281\n",
      "chunk: 2, Record: 282\n",
      "chunk: 2, Record: 283\n",
      "chunk: 2, Record: 284\n",
      "chunk: 2, Record: 285\n",
      "chunk: 2, Record: 286\n",
      "chunk: 2, Record: 287\n",
      "chunk: 2, Record: 288\n",
      "chunk: 2, Record: 289\n",
      "chunk: 2, Record: 290\n",
      "chunk: 2, Record: 291\n",
      "chunk: 2, Record: 292\n",
      "chunk: 2, Record: 293\n",
      "chunk: 2, Record: 294\n",
      "chunk: 2, Record: 295\n",
      "chunk: 2, Record: 296\n",
      "chunk: 2, Record: 297\n",
      "chunk: 2, Record: 298\n",
      "chunk: 2, Record: 299\n",
      "chunk: 2, Record: 300\n",
      "chunk: 2, Record: 301\n",
      "chunk: 2, Record: 302\n",
      "chunk: 2, Record: 303\n",
      "chunk: 2, Record: 304\n",
      "chunk: 2, Record: 305\n",
      "chunk: 2, Record: 306\n",
      "chunk: 2, Record: 307\n",
      "chunk: 2, Record: 308\n",
      "chunk: 2, Record: 309\n",
      "chunk: 2, Record: 310\n",
      "chunk: 2, Record: 311\n",
      "chunk: 2, Record: 312\n",
      "chunk: 2, Record: 313\n",
      "chunk: 2, Record: 314\n",
      "chunk: 2, Record: 315\n",
      "chunk: 2, Record: 316\n",
      "chunk: 2, Record: 317\n",
      "chunk: 2, Record: 318\n",
      "chunk: 2, Record: 319\n",
      "chunk: 2, Record: 320\n",
      "chunk: 2, Record: 321\n",
      "chunk: 2, Record: 322\n",
      "chunk: 2, Record: 323\n",
      "chunk: 2, Record: 324\n",
      "chunk: 2, Record: 325\n",
      "chunk: 2, Record: 326\n",
      "chunk: 2, Record: 327\n",
      "chunk: 2, Record: 328\n",
      "chunk: 2, Record: 329\n",
      "chunk: 2, Record: 330\n",
      "chunk: 2, Record: 331\n",
      "chunk: 2, Record: 332\n",
      "chunk: 2, Record: 333\n",
      "chunk: 2, Record: 334\n",
      "chunk: 2, Record: 335\n",
      "chunk: 2, Record: 336\n",
      "chunk: 2, Record: 337\n",
      "chunk: 2, Record: 338\n",
      "chunk: 2, Record: 339\n",
      "chunk: 2, Record: 340\n",
      "chunk: 2, Record: 341\n",
      "chunk: 2, Record: 342\n",
      "chunk: 2, Record: 343\n",
      "chunk: 2, Record: 344\n",
      "chunk: 2, Record: 345\n",
      "chunk: 2, Record: 346\n",
      "chunk: 2, Record: 347\n",
      "chunk: 2, Record: 348\n",
      "chunk: 2, Record: 349\n",
      "chunk: 2, Record: 350\n",
      "chunk: 2, Record: 351\n",
      "chunk: 2, Record: 352\n",
      "chunk: 2, Record: 353\n",
      "chunk: 2, Record: 354\n",
      "chunk: 2, Record: 355\n",
      "chunk: 2, Record: 356\n",
      "chunk: 2, Record: 357\n",
      "chunk: 2, Record: 358\n",
      "chunk: 2, Record: 359\n",
      "chunk: 2, Record: 360\n",
      "chunk: 2, Record: 361\n",
      "chunk: 2, Record: 362\n",
      "chunk: 2, Record: 363\n",
      "chunk: 2, Record: 364\n",
      "chunk: 2, Record: 365\n",
      "chunk: 2, Record: 366\n",
      "chunk: 2, Record: 367\n",
      "chunk: 2, Record: 368\n",
      "chunk: 2, Record: 369\n",
      "chunk: 2, Record: 370\n",
      "chunk: 2, Record: 371\n",
      "chunk: 2, Record: 372\n",
      "chunk: 2, Record: 373\n",
      "chunk: 2, Record: 374\n",
      "chunk: 2, Record: 375\n",
      "chunk: 2, Record: 376\n",
      "chunk: 2, Record: 377\n",
      "chunk: 2, Record: 378\n",
      "chunk: 2, Record: 379\n",
      "chunk: 2, Record: 380\n",
      "chunk: 2, Record: 381\n",
      "chunk: 2, Record: 382\n",
      "chunk: 2, Record: 383\n",
      "chunk: 2, Record: 384\n",
      "chunk: 2, Record: 385\n",
      "chunk: 2, Record: 386\n",
      "chunk: 2, Record: 387\n",
      "chunk: 2, Record: 388\n",
      "chunk: 2, Record: 389\n",
      "chunk: 2, Record: 390\n",
      "chunk: 2, Record: 391\n",
      "chunk: 2, Record: 392\n",
      "chunk: 2, Record: 393\n",
      "chunk: 2, Record: 394\n",
      "chunk: 2, Record: 395\n",
      "chunk: 2, Record: 396\n",
      "chunk: 2, Record: 397\n",
      "chunk: 2, Record: 398\n",
      "chunk: 2, Record: 399\n",
      "chunk: 2, Record: 400\n",
      "chunk: 2, Record: 401\n",
      "chunk: 2, Record: 402\n",
      "chunk: 2, Record: 403\n",
      "chunk: 2, Record: 404\n",
      "chunk: 2, Record: 405\n",
      "chunk: 2, Record: 406\n",
      "chunk: 2, Record: 407\n",
      "chunk: 2, Record: 408\n",
      "chunk: 2, Record: 409\n",
      "chunk: 2, Record: 410\n",
      "chunk: 2, Record: 411\n",
      "chunk: 2, Record: 412\n",
      "chunk: 2, Record: 413\n",
      "chunk: 2, Record: 414\n",
      "chunk: 2, Record: 415\n",
      "chunk: 2, Record: 416\n",
      "chunk: 2, Record: 417\n",
      "chunk: 2, Record: 418\n",
      "chunk: 2, Record: 419\n",
      "chunk: 2, Record: 420\n",
      "chunk: 2, Record: 421\n",
      "chunk: 2, Record: 422\n",
      "chunk: 2, Record: 423\n",
      "chunk: 2, Record: 424\n",
      "chunk: 2, Record: 425\n",
      "chunk: 2, Record: 426\n",
      "chunk: 2, Record: 427\n",
      "chunk: 2, Record: 428\n",
      "chunk: 2, Record: 429\n",
      "chunk: 2, Record: 430\n",
      "chunk: 2, Record: 431\n",
      "chunk: 2, Record: 432\n",
      "chunk: 2, Record: 433\n",
      "chunk: 2, Record: 434\n",
      "chunk: 2, Record: 435\n",
      "chunk: 2, Record: 436\n",
      "chunk: 2, Record: 437\n",
      "chunk: 2, Record: 438\n",
      "chunk: 2, Record: 439\n",
      "chunk: 2, Record: 440\n",
      "chunk: 2, Record: 441\n",
      "chunk: 2, Record: 442\n",
      "chunk: 2, Record: 443\n",
      "chunk: 2, Record: 444\n",
      "chunk: 2, Record: 445\n",
      "chunk: 2, Record: 446\n",
      "chunk: 2, Record: 447\n",
      "chunk: 2, Record: 448\n",
      "chunk: 2, Record: 449\n",
      "chunk: 2, Record: 450\n",
      "chunk: 2, Record: 451\n",
      "chunk: 2, Record: 452\n",
      "chunk: 2, Record: 453\n",
      "chunk: 2, Record: 454\n",
      "chunk: 2, Record: 455\n",
      "chunk: 2, Record: 456\n",
      "chunk: 2, Record: 457\n",
      "chunk: 2, Record: 458\n",
      "chunk: 2, Record: 459\n",
      "chunk: 2, Record: 460\n",
      "chunk: 2, Record: 461\n",
      "chunk: 2, Record: 462\n",
      "chunk: 2, Record: 463\n",
      "chunk: 2, Record: 464\n",
      "chunk: 2, Record: 465\n",
      "chunk: 2, Record: 466\n",
      "chunk: 2, Record: 467\n",
      "chunk: 2, Record: 468\n",
      "chunk: 2, Record: 469\n",
      "chunk: 2, Record: 470\n",
      "chunk: 2, Record: 471\n",
      "chunk: 2, Record: 472\n",
      "chunk: 2, Record: 473\n",
      "chunk: 2, Record: 474\n",
      "chunk: 2, Record: 475\n",
      "chunk: 2, Record: 476\n",
      "chunk: 2, Record: 477\n",
      "chunk: 2, Record: 478\n",
      "chunk: 2, Record: 479\n",
      "chunk: 2, Record: 480\n",
      "chunk: 2, Record: 481\n",
      "chunk: 2, Record: 482\n",
      "chunk: 2, Record: 483\n",
      "chunk: 2, Record: 484\n",
      "chunk: 2, Record: 485\n",
      "chunk: 2, Record: 486\n",
      "chunk: 2, Record: 487\n",
      "chunk: 2, Record: 488\n",
      "chunk: 2, Record: 489\n",
      "chunk: 2, Record: 490\n",
      "chunk: 2, Record: 491\n",
      "chunk: 2, Record: 492\n",
      "chunk: 2, Record: 493\n",
      "chunk: 2, Record: 494\n",
      "chunk: 2, Record: 495\n",
      "chunk: 2, Record: 496\n",
      "chunk: 2, Record: 497\n",
      "chunk: 2, Record: 498\n",
      "chunk: 2, Record: 499\n",
      "chunk: 2, Record: 500\n",
      "DataFrame appended to Table: MoviesRaw\n",
      "Loaded chunk: 2\n",
      "chunk: 3, Record: 501\n",
      "chunk: 3, Record: 502\n",
      "chunk: 3, Record: 503\n",
      "chunk: 3, Record: 504\n",
      "chunk: 3, Record: 505\n",
      "chunk: 3, Record: 506\n",
      "chunk: 3, Record: 507\n",
      "chunk: 3, Record: 508\n",
      "chunk: 3, Record: 509\n",
      "chunk: 3, Record: 510\n",
      "chunk: 3, Record: 511\n",
      "chunk: 3, Record: 512\n",
      "chunk: 3, Record: 513\n",
      "chunk: 3, Record: 514\n",
      "chunk: 3, Record: 515\n",
      "chunk: 3, Record: 516\n",
      "chunk: 3, Record: 517\n"
     ]
    },
    {
     "ename": "KeyboardInterrupt",
     "evalue": "",
     "output_type": "error",
     "traceback": [
      "\u001b[0;31m---------------------------------------------------------------------------\u001b[0m",
      "\u001b[0;31mKeyboardInterrupt\u001b[0m                         Traceback (most recent call last)",
      "Cell \u001b[0;32mIn [5], line 11\u001b[0m\n\u001b[1;32m      9\u001b[0m \u001b[39mprint\u001b[39m(\u001b[39mf\u001b[39m\u001b[39m\"\u001b[39m\u001b[39mchunk: \u001b[39m\u001b[39m{\u001b[39;00mx\u001b[39m}\u001b[39;00m\u001b[39m, Record: \u001b[39m\u001b[39m{\u001b[39;00my\u001b[39m}\u001b[39;00m\u001b[39m\"\u001b[39m) \n\u001b[1;32m     10\u001b[0m dataurl \u001b[39m=\u001b[39m \u001b[39mf\u001b[39m\u001b[39m'\u001b[39m\u001b[39mhttps://api.themoviedb.org/3/movie/\u001b[39m\u001b[39m{\u001b[39;00mi\u001b[39m}\u001b[39;00m\u001b[39m?api_key=\u001b[39m\u001b[39m{\u001b[39;00mapikey\u001b[39m}\u001b[39;00m\u001b[39m'\u001b[39m\n\u001b[0;32m---> 11\u001b[0m data \u001b[39m=\u001b[39m json\u001b[39m.\u001b[39mloads(session\u001b[39m.\u001b[39;49mget(dataurl, stream\u001b[39m=\u001b[39;49m\u001b[39mFalse\u001b[39;49;00m)\u001b[39m.\u001b[39mtext)\n\u001b[1;32m     12\u001b[0m df \u001b[39m=\u001b[39m pd\u001b[39m.\u001b[39mjson_normalize(data)\n\u001b[1;32m     13\u001b[0m dfs\u001b[39m.\u001b[39mappend(df)\n",
      "File \u001b[0;32m/opt/homebrew/lib/python3.10/site-packages/requests/sessions.py:600\u001b[0m, in \u001b[0;36mSession.get\u001b[0;34m(self, url, **kwargs)\u001b[0m\n\u001b[1;32m    592\u001b[0m \u001b[39mr\u001b[39m\u001b[39m\"\"\"Sends a GET request. Returns :class:`Response` object.\u001b[39;00m\n\u001b[1;32m    593\u001b[0m \n\u001b[1;32m    594\u001b[0m \u001b[39m:param url: URL for the new :class:`Request` object.\u001b[39;00m\n\u001b[1;32m    595\u001b[0m \u001b[39m:param \\*\\*kwargs: Optional arguments that ``request`` takes.\u001b[39;00m\n\u001b[1;32m    596\u001b[0m \u001b[39m:rtype: requests.Response\u001b[39;00m\n\u001b[1;32m    597\u001b[0m \u001b[39m\"\"\"\u001b[39;00m\n\u001b[1;32m    599\u001b[0m kwargs\u001b[39m.\u001b[39msetdefault(\u001b[39m\"\u001b[39m\u001b[39mallow_redirects\u001b[39m\u001b[39m\"\u001b[39m, \u001b[39mTrue\u001b[39;00m)\n\u001b[0;32m--> 600\u001b[0m \u001b[39mreturn\u001b[39;00m \u001b[39mself\u001b[39;49m\u001b[39m.\u001b[39;49mrequest(\u001b[39m\"\u001b[39;49m\u001b[39mGET\u001b[39;49m\u001b[39m\"\u001b[39;49m, url, \u001b[39m*\u001b[39;49m\u001b[39m*\u001b[39;49mkwargs)\n",
      "File \u001b[0;32m/opt/homebrew/lib/python3.10/site-packages/requests/sessions.py:587\u001b[0m, in \u001b[0;36mSession.request\u001b[0;34m(self, method, url, params, data, headers, cookies, files, auth, timeout, allow_redirects, proxies, hooks, stream, verify, cert, json)\u001b[0m\n\u001b[1;32m    582\u001b[0m send_kwargs \u001b[39m=\u001b[39m {\n\u001b[1;32m    583\u001b[0m     \u001b[39m\"\u001b[39m\u001b[39mtimeout\u001b[39m\u001b[39m\"\u001b[39m: timeout,\n\u001b[1;32m    584\u001b[0m     \u001b[39m\"\u001b[39m\u001b[39mallow_redirects\u001b[39m\u001b[39m\"\u001b[39m: allow_redirects,\n\u001b[1;32m    585\u001b[0m }\n\u001b[1;32m    586\u001b[0m send_kwargs\u001b[39m.\u001b[39mupdate(settings)\n\u001b[0;32m--> 587\u001b[0m resp \u001b[39m=\u001b[39m \u001b[39mself\u001b[39;49m\u001b[39m.\u001b[39;49msend(prep, \u001b[39m*\u001b[39;49m\u001b[39m*\u001b[39;49msend_kwargs)\n\u001b[1;32m    589\u001b[0m \u001b[39mreturn\u001b[39;00m resp\n",
      "File \u001b[0;32m/opt/homebrew/lib/python3.10/site-packages/requests/sessions.py:701\u001b[0m, in \u001b[0;36mSession.send\u001b[0;34m(self, request, **kwargs)\u001b[0m\n\u001b[1;32m    698\u001b[0m start \u001b[39m=\u001b[39m preferred_clock()\n\u001b[1;32m    700\u001b[0m \u001b[39m# Send the request\u001b[39;00m\n\u001b[0;32m--> 701\u001b[0m r \u001b[39m=\u001b[39m adapter\u001b[39m.\u001b[39;49msend(request, \u001b[39m*\u001b[39;49m\u001b[39m*\u001b[39;49mkwargs)\n\u001b[1;32m    703\u001b[0m \u001b[39m# Total elapsed time of the request (approximately)\u001b[39;00m\n\u001b[1;32m    704\u001b[0m elapsed \u001b[39m=\u001b[39m preferred_clock() \u001b[39m-\u001b[39m start\n",
      "File \u001b[0;32m/opt/homebrew/lib/python3.10/site-packages/requests/adapters.py:489\u001b[0m, in \u001b[0;36mHTTPAdapter.send\u001b[0;34m(self, request, stream, timeout, verify, cert, proxies)\u001b[0m\n\u001b[1;32m    487\u001b[0m \u001b[39mtry\u001b[39;00m:\n\u001b[1;32m    488\u001b[0m     \u001b[39mif\u001b[39;00m \u001b[39mnot\u001b[39;00m chunked:\n\u001b[0;32m--> 489\u001b[0m         resp \u001b[39m=\u001b[39m conn\u001b[39m.\u001b[39;49murlopen(\n\u001b[1;32m    490\u001b[0m             method\u001b[39m=\u001b[39;49mrequest\u001b[39m.\u001b[39;49mmethod,\n\u001b[1;32m    491\u001b[0m             url\u001b[39m=\u001b[39;49murl,\n\u001b[1;32m    492\u001b[0m             body\u001b[39m=\u001b[39;49mrequest\u001b[39m.\u001b[39;49mbody,\n\u001b[1;32m    493\u001b[0m             headers\u001b[39m=\u001b[39;49mrequest\u001b[39m.\u001b[39;49mheaders,\n\u001b[1;32m    494\u001b[0m             redirect\u001b[39m=\u001b[39;49m\u001b[39mFalse\u001b[39;49;00m,\n\u001b[1;32m    495\u001b[0m             assert_same_host\u001b[39m=\u001b[39;49m\u001b[39mFalse\u001b[39;49;00m,\n\u001b[1;32m    496\u001b[0m             preload_content\u001b[39m=\u001b[39;49m\u001b[39mFalse\u001b[39;49;00m,\n\u001b[1;32m    497\u001b[0m             decode_content\u001b[39m=\u001b[39;49m\u001b[39mFalse\u001b[39;49;00m,\n\u001b[1;32m    498\u001b[0m             retries\u001b[39m=\u001b[39;49m\u001b[39mself\u001b[39;49m\u001b[39m.\u001b[39;49mmax_retries,\n\u001b[1;32m    499\u001b[0m             timeout\u001b[39m=\u001b[39;49mtimeout,\n\u001b[1;32m    500\u001b[0m         )\n\u001b[1;32m    502\u001b[0m     \u001b[39m# Send the request.\u001b[39;00m\n\u001b[1;32m    503\u001b[0m     \u001b[39melse\u001b[39;00m:\n\u001b[1;32m    504\u001b[0m         \u001b[39mif\u001b[39;00m \u001b[39mhasattr\u001b[39m(conn, \u001b[39m\"\u001b[39m\u001b[39mproxy_pool\u001b[39m\u001b[39m\"\u001b[39m):\n",
      "File \u001b[0;32m/opt/homebrew/lib/python3.10/site-packages/urllib3/connectionpool.py:703\u001b[0m, in \u001b[0;36mHTTPConnectionPool.urlopen\u001b[0;34m(self, method, url, body, headers, retries, redirect, assert_same_host, timeout, pool_timeout, release_conn, chunked, body_pos, **response_kw)\u001b[0m\n\u001b[1;32m    700\u001b[0m     \u001b[39mself\u001b[39m\u001b[39m.\u001b[39m_prepare_proxy(conn)\n\u001b[1;32m    702\u001b[0m \u001b[39m# Make the request on the httplib connection object.\u001b[39;00m\n\u001b[0;32m--> 703\u001b[0m httplib_response \u001b[39m=\u001b[39m \u001b[39mself\u001b[39;49m\u001b[39m.\u001b[39;49m_make_request(\n\u001b[1;32m    704\u001b[0m     conn,\n\u001b[1;32m    705\u001b[0m     method,\n\u001b[1;32m    706\u001b[0m     url,\n\u001b[1;32m    707\u001b[0m     timeout\u001b[39m=\u001b[39;49mtimeout_obj,\n\u001b[1;32m    708\u001b[0m     body\u001b[39m=\u001b[39;49mbody,\n\u001b[1;32m    709\u001b[0m     headers\u001b[39m=\u001b[39;49mheaders,\n\u001b[1;32m    710\u001b[0m     chunked\u001b[39m=\u001b[39;49mchunked,\n\u001b[1;32m    711\u001b[0m )\n\u001b[1;32m    713\u001b[0m \u001b[39m# If we're going to release the connection in ``finally:``, then\u001b[39;00m\n\u001b[1;32m    714\u001b[0m \u001b[39m# the response doesn't need to know about the connection. Otherwise\u001b[39;00m\n\u001b[1;32m    715\u001b[0m \u001b[39m# it will also try to release it and we'll have a double-release\u001b[39;00m\n\u001b[1;32m    716\u001b[0m \u001b[39m# mess.\u001b[39;00m\n\u001b[1;32m    717\u001b[0m response_conn \u001b[39m=\u001b[39m conn \u001b[39mif\u001b[39;00m \u001b[39mnot\u001b[39;00m release_conn \u001b[39melse\u001b[39;00m \u001b[39mNone\u001b[39;00m\n",
      "File \u001b[0;32m/opt/homebrew/lib/python3.10/site-packages/urllib3/connectionpool.py:449\u001b[0m, in \u001b[0;36mHTTPConnectionPool._make_request\u001b[0;34m(self, conn, method, url, timeout, chunked, **httplib_request_kw)\u001b[0m\n\u001b[1;32m    444\u001b[0m             httplib_response \u001b[39m=\u001b[39m conn\u001b[39m.\u001b[39mgetresponse()\n\u001b[1;32m    445\u001b[0m         \u001b[39mexcept\u001b[39;00m \u001b[39mBaseException\u001b[39;00m \u001b[39mas\u001b[39;00m e:\n\u001b[1;32m    446\u001b[0m             \u001b[39m# Remove the TypeError from the exception chain in\u001b[39;00m\n\u001b[1;32m    447\u001b[0m             \u001b[39m# Python 3 (including for exceptions like SystemExit).\u001b[39;00m\n\u001b[1;32m    448\u001b[0m             \u001b[39m# Otherwise it looks like a bug in the code.\u001b[39;00m\n\u001b[0;32m--> 449\u001b[0m             six\u001b[39m.\u001b[39;49mraise_from(e, \u001b[39mNone\u001b[39;49;00m)\n\u001b[1;32m    450\u001b[0m \u001b[39mexcept\u001b[39;00m (SocketTimeout, BaseSSLError, SocketError) \u001b[39mas\u001b[39;00m e:\n\u001b[1;32m    451\u001b[0m     \u001b[39mself\u001b[39m\u001b[39m.\u001b[39m_raise_timeout(err\u001b[39m=\u001b[39me, url\u001b[39m=\u001b[39murl, timeout_value\u001b[39m=\u001b[39mread_timeout)\n",
      "File \u001b[0;32m<string>:3\u001b[0m, in \u001b[0;36mraise_from\u001b[0;34m(value, from_value)\u001b[0m\n",
      "File \u001b[0;32m/opt/homebrew/lib/python3.10/site-packages/urllib3/connectionpool.py:444\u001b[0m, in \u001b[0;36mHTTPConnectionPool._make_request\u001b[0;34m(self, conn, method, url, timeout, chunked, **httplib_request_kw)\u001b[0m\n\u001b[1;32m    441\u001b[0m \u001b[39mexcept\u001b[39;00m \u001b[39mTypeError\u001b[39;00m:\n\u001b[1;32m    442\u001b[0m     \u001b[39m# Python 3\u001b[39;00m\n\u001b[1;32m    443\u001b[0m     \u001b[39mtry\u001b[39;00m:\n\u001b[0;32m--> 444\u001b[0m         httplib_response \u001b[39m=\u001b[39m conn\u001b[39m.\u001b[39;49mgetresponse()\n\u001b[1;32m    445\u001b[0m     \u001b[39mexcept\u001b[39;00m \u001b[39mBaseException\u001b[39;00m \u001b[39mas\u001b[39;00m e:\n\u001b[1;32m    446\u001b[0m         \u001b[39m# Remove the TypeError from the exception chain in\u001b[39;00m\n\u001b[1;32m    447\u001b[0m         \u001b[39m# Python 3 (including for exceptions like SystemExit).\u001b[39;00m\n\u001b[1;32m    448\u001b[0m         \u001b[39m# Otherwise it looks like a bug in the code.\u001b[39;00m\n\u001b[1;32m    449\u001b[0m         six\u001b[39m.\u001b[39mraise_from(e, \u001b[39mNone\u001b[39;00m)\n",
      "File \u001b[0;32m/opt/homebrew/Cellar/python@3.10/3.10.8/Frameworks/Python.framework/Versions/3.10/lib/python3.10/http/client.py:1374\u001b[0m, in \u001b[0;36mHTTPConnection.getresponse\u001b[0;34m(self)\u001b[0m\n\u001b[1;32m   1372\u001b[0m \u001b[39mtry\u001b[39;00m:\n\u001b[1;32m   1373\u001b[0m     \u001b[39mtry\u001b[39;00m:\n\u001b[0;32m-> 1374\u001b[0m         response\u001b[39m.\u001b[39;49mbegin()\n\u001b[1;32m   1375\u001b[0m     \u001b[39mexcept\u001b[39;00m \u001b[39mConnectionError\u001b[39;00m:\n\u001b[1;32m   1376\u001b[0m         \u001b[39mself\u001b[39m\u001b[39m.\u001b[39mclose()\n",
      "File \u001b[0;32m/opt/homebrew/Cellar/python@3.10/3.10.8/Frameworks/Python.framework/Versions/3.10/lib/python3.10/http/client.py:318\u001b[0m, in \u001b[0;36mHTTPResponse.begin\u001b[0;34m(self)\u001b[0m\n\u001b[1;32m    316\u001b[0m \u001b[39m# read until we get a non-100 response\u001b[39;00m\n\u001b[1;32m    317\u001b[0m \u001b[39mwhile\u001b[39;00m \u001b[39mTrue\u001b[39;00m:\n\u001b[0;32m--> 318\u001b[0m     version, status, reason \u001b[39m=\u001b[39m \u001b[39mself\u001b[39;49m\u001b[39m.\u001b[39;49m_read_status()\n\u001b[1;32m    319\u001b[0m     \u001b[39mif\u001b[39;00m status \u001b[39m!=\u001b[39m CONTINUE:\n\u001b[1;32m    320\u001b[0m         \u001b[39mbreak\u001b[39;00m\n",
      "File \u001b[0;32m/opt/homebrew/Cellar/python@3.10/3.10.8/Frameworks/Python.framework/Versions/3.10/lib/python3.10/http/client.py:279\u001b[0m, in \u001b[0;36mHTTPResponse._read_status\u001b[0;34m(self)\u001b[0m\n\u001b[1;32m    278\u001b[0m \u001b[39mdef\u001b[39;00m \u001b[39m_read_status\u001b[39m(\u001b[39mself\u001b[39m):\n\u001b[0;32m--> 279\u001b[0m     line \u001b[39m=\u001b[39m \u001b[39mstr\u001b[39m(\u001b[39mself\u001b[39;49m\u001b[39m.\u001b[39;49mfp\u001b[39m.\u001b[39;49mreadline(_MAXLINE \u001b[39m+\u001b[39;49m \u001b[39m1\u001b[39;49m), \u001b[39m\"\u001b[39m\u001b[39miso-8859-1\u001b[39m\u001b[39m\"\u001b[39m)\n\u001b[1;32m    280\u001b[0m     \u001b[39mif\u001b[39;00m \u001b[39mlen\u001b[39m(line) \u001b[39m>\u001b[39m _MAXLINE:\n\u001b[1;32m    281\u001b[0m         \u001b[39mraise\u001b[39;00m LineTooLong(\u001b[39m\"\u001b[39m\u001b[39mstatus line\u001b[39m\u001b[39m\"\u001b[39m)\n",
      "File \u001b[0;32m/opt/homebrew/Cellar/python@3.10/3.10.8/Frameworks/Python.framework/Versions/3.10/lib/python3.10/socket.py:705\u001b[0m, in \u001b[0;36mSocketIO.readinto\u001b[0;34m(self, b)\u001b[0m\n\u001b[1;32m    703\u001b[0m \u001b[39mwhile\u001b[39;00m \u001b[39mTrue\u001b[39;00m:\n\u001b[1;32m    704\u001b[0m     \u001b[39mtry\u001b[39;00m:\n\u001b[0;32m--> 705\u001b[0m         \u001b[39mreturn\u001b[39;00m \u001b[39mself\u001b[39;49m\u001b[39m.\u001b[39;49m_sock\u001b[39m.\u001b[39;49mrecv_into(b)\n\u001b[1;32m    706\u001b[0m     \u001b[39mexcept\u001b[39;00m timeout:\n\u001b[1;32m    707\u001b[0m         \u001b[39mself\u001b[39m\u001b[39m.\u001b[39m_timeout_occurred \u001b[39m=\u001b[39m \u001b[39mTrue\u001b[39;00m\n",
      "File \u001b[0;32m/opt/homebrew/Cellar/python@3.10/3.10.8/Frameworks/Python.framework/Versions/3.10/lib/python3.10/ssl.py:1274\u001b[0m, in \u001b[0;36mSSLSocket.recv_into\u001b[0;34m(self, buffer, nbytes, flags)\u001b[0m\n\u001b[1;32m   1270\u001b[0m     \u001b[39mif\u001b[39;00m flags \u001b[39m!=\u001b[39m \u001b[39m0\u001b[39m:\n\u001b[1;32m   1271\u001b[0m         \u001b[39mraise\u001b[39;00m \u001b[39mValueError\u001b[39;00m(\n\u001b[1;32m   1272\u001b[0m           \u001b[39m\"\u001b[39m\u001b[39mnon-zero flags not allowed in calls to recv_into() on \u001b[39m\u001b[39m%s\u001b[39;00m\u001b[39m\"\u001b[39m \u001b[39m%\u001b[39m\n\u001b[1;32m   1273\u001b[0m           \u001b[39mself\u001b[39m\u001b[39m.\u001b[39m\u001b[39m__class__\u001b[39m)\n\u001b[0;32m-> 1274\u001b[0m     \u001b[39mreturn\u001b[39;00m \u001b[39mself\u001b[39;49m\u001b[39m.\u001b[39;49mread(nbytes, buffer)\n\u001b[1;32m   1275\u001b[0m \u001b[39melse\u001b[39;00m:\n\u001b[1;32m   1276\u001b[0m     \u001b[39mreturn\u001b[39;00m \u001b[39msuper\u001b[39m()\u001b[39m.\u001b[39mrecv_into(buffer, nbytes, flags)\n",
      "File \u001b[0;32m/opt/homebrew/Cellar/python@3.10/3.10.8/Frameworks/Python.framework/Versions/3.10/lib/python3.10/ssl.py:1130\u001b[0m, in \u001b[0;36mSSLSocket.read\u001b[0;34m(self, len, buffer)\u001b[0m\n\u001b[1;32m   1128\u001b[0m \u001b[39mtry\u001b[39;00m:\n\u001b[1;32m   1129\u001b[0m     \u001b[39mif\u001b[39;00m buffer \u001b[39mis\u001b[39;00m \u001b[39mnot\u001b[39;00m \u001b[39mNone\u001b[39;00m:\n\u001b[0;32m-> 1130\u001b[0m         \u001b[39mreturn\u001b[39;00m \u001b[39mself\u001b[39;49m\u001b[39m.\u001b[39;49m_sslobj\u001b[39m.\u001b[39;49mread(\u001b[39mlen\u001b[39;49m, buffer)\n\u001b[1;32m   1131\u001b[0m     \u001b[39melse\u001b[39;00m:\n\u001b[1;32m   1132\u001b[0m         \u001b[39mreturn\u001b[39;00m \u001b[39mself\u001b[39m\u001b[39m.\u001b[39m_sslobj\u001b[39m.\u001b[39mread(\u001b[39mlen\u001b[39m)\n",
      "\u001b[0;31mKeyboardInterrupt\u001b[0m: "
     ]
    }
   ],
   "source": [
    "x=2\n",
    "y=1\n",
    "\n",
    "for chunk in np.array_split(ids['id'], len(ids)//500 + 1):\n",
    "    session = requests.Session()\n",
    "    df_movies = None \n",
    "    dfs=[]\n",
    "    for i in chunk:\n",
    "        print(f\"chunk: {x}, Record: {y}\") \n",
    "        dataurl = f'https://api.themoviedb.org/3/movie/{i}?api_key={apikey}'\n",
    "        data = json.loads(session.get(dataurl, stream=False).text)\n",
    "        df = pd.json_normalize(data)\n",
    "        dfs.append(df)\n",
    "        y+=1\n",
    "    \n",
    "    df_movies = pd.concat(dfs)\n",
    "    df_movies = df_movies[['adult', 'backdrop_path', 'budget', 'genres', 'homepage', 'id',\n",
    "                            'imdb_id', 'original_language', 'original_title', 'overview',\n",
    "                            'popularity', 'poster_path', 'production_companies',\n",
    "                            'production_countries', 'release_date', 'revenue', 'runtime',\n",
    "                            'spoken_languages', 'status', 'tagline', 'title', 'video',\n",
    "                            'vote_average', 'vote_count', 'belongs_to_collection.id']]\n",
    "\n",
    "    df_movies.dropna(subset=['id'], axis=0, inplace=True)\n",
    "    df_movies['id'] = pd.to_numeric(df_movies.id, errors='coerce').astype('int')\n",
    "    df_movies['genres'] = df_movies['genres'].astype('str')\n",
    "    df_movies['production_companies'] = df_movies['production_companies'].astype('str')\n",
    "    df_movies['production_countries'] = df_movies['production_countries'].astype('str')\n",
    "    df_movies['spoken_languages'] = df_movies['spoken_languages'].astype('str')\n",
    "    \n",
    "    df_movies['vote_average'] = pd.to_numeric(df_movies.vote_average, errors='coerce')\n",
    "    df_movies['popularity'] = pd.to_numeric(df_movies.popularity, errors='coerce')\n",
    "    df_movies['adult'] = df_movies['adult'].astype('bool')\n",
    "    df_movies['video'] = df_movies['video'].astype('bool')\n",
    "    \n",
    "    \n",
    "    # df_movies['vote_average'] = [format(i, '.3f') for i in df_movies['vote_average']]\n",
    "    # df_movies['popularity'] = [format(i, '.3f') for i in df_movies['popularity']]\n",
    "    \n",
    "    # df_movies.to_csv('movies.csv', index=False)\n",
    "\n",
    "            \n",
    "    if x==1:   \n",
    "        custom = {\"id\": \"int PRIMARY KEY\", \"revenue\": \"bigint\", \"budget\": \"bigint\"}\n",
    "        dataloader.full_load_with_index(df=df_movies, tbl=\"MoviesRaw\", custom=custom, fastexecute=False)\n",
    "    else:\n",
    "        # df_movies = pd.read_csv('movies.csv', engine='python')\n",
    "        # print(df_movies.shape)\n",
    "        # df_movies.dropna(subset=['id'], axis=0, inplace=True)\n",
    "        # df_movies = df_movies.astype('object')\n",
    "        dataloader.inc_load_with_index(df=df_movies, tbl=\"MoviesRaw\", fastexecute=False)\n",
    "    print(f\"Loaded chunk: {x}\")  \n",
    "    x+=1\n",
    "    session.close()\n",
    "    del dfs\n",
    "    del session\n",
    "    "
   ]
  },
  {
   "cell_type": "code",
   "execution_count": 17,
   "metadata": {},
   "outputs": [
    {
     "data": {
      "text/plain": [
       "0    False\n",
       "0    False\n",
       "0    False\n",
       "0    False\n",
       "0    False\n",
       "     ...  \n",
       "0    False\n",
       "0    False\n",
       "0    False\n",
       "0    False\n",
       "0    False\n",
       "Name: adult, Length: 728, dtype: bool"
      ]
     },
     "execution_count": 17,
     "metadata": {},
     "output_type": "execute_result"
    }
   ],
   "source": [
    "df_movies['adult'].astype('bool')"
   ]
  },
  {
   "cell_type": "code",
   "execution_count": 5,
   "metadata": {},
   "outputs": [
    {
     "data": {
      "text/plain": [
       "Index(['adult', 'backdrop_path', 'budget', 'genres', 'homepage', 'id',\n",
       "       'imdb_id', 'original_language', 'original_title', 'overview',\n",
       "       'popularity', 'poster_path', 'production_companies',\n",
       "       'production_countries', 'release_date', 'revenue', 'runtime',\n",
       "       'spoken_languages', 'status', 'tagline', 'title', 'video',\n",
       "       'vote_average', 'vote_count', 'belongs_to_collection.id', 'success',\n",
       "       'status_code', 'status_message'],\n",
       "      dtype='object')"
      ]
     },
     "execution_count": 5,
     "metadata": {},
     "output_type": "execute_result"
    }
   ],
   "source": [
    "df_movies.columns"
   ]
  },
  {
   "cell_type": "code",
   "execution_count": 11,
   "metadata": {},
   "outputs": [
    {
     "data": {
      "text/plain": [
       "0    4.700\n",
       "0    5.800\n",
       "0    6.500\n",
       "0    3.500\n",
       "0    5.000\n",
       "     ...  \n",
       "0    5.643\n",
       "0    5.100\n",
       "0    0.000\n",
       "0    5.000\n",
       "0    6.800\n",
       "Name: vote_average, Length: 728, dtype: float64"
      ]
     },
     "execution_count": 11,
     "metadata": {},
     "output_type": "execute_result"
    }
   ],
   "source": [
    "pd.to_numeric(df_movies.vote_average, errors='coerce')"
   ]
  },
  {
   "cell_type": "code",
   "execution_count": 53,
   "metadata": {},
   "outputs": [
    {
     "data": {
      "text/plain": [
       "0      224423.0\n",
       "1      224438.0\n",
       "2      224455.0\n",
       "3      224473.0\n",
       "4      224538.0\n",
       "         ...   \n",
       "964     58100.0\n",
       "965     58131.0\n",
       "966     58132.0\n",
       "967     58149.0\n",
       "968     58164.0\n",
       "Name: id, Length: 952, dtype: float64"
      ]
     },
     "execution_count": 53,
     "metadata": {},
     "output_type": "execute_result"
    }
   ],
   "source": [
    "pd.to_numeric(df_test.id, errors='coerce')"
   ]
  },
  {
   "cell_type": "code",
   "execution_count": 48,
   "metadata": {},
   "outputs": [
    {
     "data": {
      "text/plain": [
       "0      False\n",
       "1      False\n",
       "2      False\n",
       "3      False\n",
       "4      False\n",
       "       ...  \n",
       "964    False\n",
       "965    False\n",
       "966    False\n",
       "967    False\n",
       "968    False\n",
       "Name: id, Length: 952, dtype: bool"
      ]
     },
     "execution_count": 48,
     "metadata": {},
     "output_type": "execute_result"
    }
   ],
   "source": [
    "df_test.id.astype('str').str.isnumeric()"
   ]
  },
  {
   "cell_type": "code",
   "execution_count": 17,
   "metadata": {},
   "outputs": [
    {
     "data": {
      "text/plain": [
       "1820             0\n",
       "5073    1889-01-14\n",
       "5575    1890-01-01\n",
       "5576    1890-11-21\n",
       "5165    1890-11-21\n",
       "           ...    \n",
       "5349           NaN\n",
       "7532           NaN\n",
       "7539           NaN\n",
       "7571           NaN\n",
       "7607           NaN\n",
       "Name: release_date, Length: 7651, dtype: object"
      ]
     },
     "execution_count": 17,
     "metadata": {},
     "output_type": "execute_result"
    }
   ],
   "source": [
    "df_movies['release_date'].sort_values() #= pd.to_datetime(df_movies['release_date']).dt.normalize()"
   ]
  },
  {
   "cell_type": "code",
   "execution_count": null,
   "metadata": {},
   "outputs": [],
   "source": [
    "df_movies['release_date'] = pd.to_datetime(df_movies['release_date'].replace({0:np.NaN})).dt.normalize()"
   ]
  },
  {
   "cell_type": "code",
   "execution_count": 37,
   "metadata": {},
   "outputs": [
    {
     "data": {
      "text/html": [
       "<div>\n",
       "<style scoped>\n",
       "    .dataframe tbody tr th:only-of-type {\n",
       "        vertical-align: middle;\n",
       "    }\n",
       "\n",
       "    .dataframe tbody tr th {\n",
       "        vertical-align: top;\n",
       "    }\n",
       "\n",
       "    .dataframe thead th {\n",
       "        text-align: right;\n",
       "    }\n",
       "</style>\n",
       "<table border=\"1\" class=\"dataframe\">\n",
       "  <thead>\n",
       "    <tr style=\"text-align: right;\">\n",
       "      <th></th>\n",
       "      <th>adult</th>\n",
       "      <th>backdrop_path</th>\n",
       "      <th>budget</th>\n",
       "      <th>genres</th>\n",
       "      <th>homepage</th>\n",
       "      <th>id</th>\n",
       "      <th>imdb_id</th>\n",
       "      <th>original_language</th>\n",
       "      <th>original_title</th>\n",
       "      <th>overview</th>\n",
       "      <th>...</th>\n",
       "      <th>revenue</th>\n",
       "      <th>runtime</th>\n",
       "      <th>spoken_languages</th>\n",
       "      <th>status</th>\n",
       "      <th>tagline</th>\n",
       "      <th>title</th>\n",
       "      <th>video</th>\n",
       "      <th>vote_average</th>\n",
       "      <th>vote_count</th>\n",
       "      <th>belongs_to_collection.id</th>\n",
       "    </tr>\n",
       "  </thead>\n",
       "  <tbody>\n",
       "    <tr>\n",
       "      <th>1820</th>\n",
       "      <td>02. We're Alright 03. World Of Hurt 04. Livin...</td>\n",
       "      <td>0.662</td>\n",
       "      <td>/mLJKxkv6wpWbJnQZ8nYpFoiEvUO.jpg</td>\n",
       "      <td>[]</td>\n",
       "      <td>[{'iso_3166_1': 'NL', 'name': 'Netherlands'}]</td>\n",
       "      <td>2009-08-20</td>\n",
       "      <td>0</td>\n",
       "      <td>115</td>\n",
       "      <td>[{'english_name': 'English', 'iso_639_1': 'en'...</td>\n",
       "      <td>Released</td>\n",
       "      <td>...</td>\n",
       "      <td>NaN</td>\n",
       "      <td>NaN</td>\n",
       "      <td>None</td>\n",
       "      <td>None</td>\n",
       "      <td>None</td>\n",
       "      <td>None</td>\n",
       "      <td>None</td>\n",
       "      <td>NaN</td>\n",
       "      <td>NaN</td>\n",
       "      <td>NaN</td>\n",
       "    </tr>\n",
       "  </tbody>\n",
       "</table>\n",
       "<p>1 rows × 25 columns</p>\n",
       "</div>"
      ],
      "text/plain": [
       "                                                  adult backdrop_path  \\\n",
       "1820   02. We're Alright 03. World Of Hurt 04. Livin...         0.662   \n",
       "\n",
       "                                budget genres  \\\n",
       "1820  /mLJKxkv6wpWbJnQZ8nYpFoiEvUO.jpg     []   \n",
       "\n",
       "                                           homepage          id imdb_id  \\\n",
       "1820  [{'iso_3166_1': 'NL', 'name': 'Netherlands'}]  2009-08-20       0   \n",
       "\n",
       "     original_language                                     original_title  \\\n",
       "1820               115  [{'english_name': 'English', 'iso_639_1': 'en'...   \n",
       "\n",
       "      overview  ...  revenue runtime spoken_languages status tagline  title  \\\n",
       "1820  Released  ...      NaN     NaN             None   None    None   None   \n",
       "\n",
       "      video vote_average vote_count belongs_to_collection.id  \n",
       "1820   None          NaN        NaN                      NaN  \n",
       "\n",
       "[1 rows x 25 columns]"
      ]
     },
     "execution_count": 37,
     "metadata": {},
     "output_type": "execute_result"
    }
   ],
   "source": [
    "df_movies[df_movies.adult==\" 02. We're Alright 03. World Of Hurt 04. Livin'on Love 05. I Still Cry 06. When We Don't Talk 07. Flying Blind 08. Sister Golden Hair 09. I'd Be Yours 10. Heavenless 11. Fall 12. Have A Little Faith 13. Stuck In The Middle 14. Love Won't Hide 15. Pirate Of Your Soul 16. Puzzle Me 17. Sharp Dressed Men 18. The Other Side 19. Miracle 20. The Great Escape 21. I'm Not So Tough 22. I Love You 23. So Incredible  Extra's: *** Music Video’s - So incredible - Miracle - Puzzle me *** Backstage Footage\"]"
   ]
  },
  {
   "cell_type": "code",
   "execution_count": 20,
   "metadata": {},
   "outputs": [],
   "source": [
    "df_movies.dropna(subset=['id'], axis=0, inplace=True)\n",
    "# df_movies.info()"
   ]
  },
  {
   "cell_type": "code",
   "execution_count": 17,
   "metadata": {},
   "outputs": [],
   "source": [
    "df_movies"
   ]
  },
  {
   "cell_type": "code",
   "execution_count": 21,
   "metadata": {},
   "outputs": [
    {
     "data": {
      "text/plain": [
       "0"
      ]
     },
     "execution_count": 21,
     "metadata": {},
     "output_type": "execute_result"
    }
   ],
   "source": [
    "(df_movies['id'].isna()).sum()"
   ]
  },
  {
   "cell_type": "code",
   "execution_count": 36,
   "metadata": {},
   "outputs": [
    {
     "data": {
      "text/plain": [
       "array(['False',\n",
       "       \" 02. We're Alright 03. World Of Hurt 04. Livin'on Love 05. I Still Cry 06. When We Don't Talk 07. Flying Blind 08. Sister Golden Hair 09. I'd Be Yours 10. Heavenless 11. Fall 12. Have A Little Faith 13. Stuck In The Middle 14. Love Won't Hide 15. Pirate Of Your Soul 16. Puzzle Me 17. Sharp Dressed Men 18. The Other Side 19. Miracle 20. The Great Escape 21. I'm Not So Tough 22. I Love You 23. So Incredible  Extra's: *** Music Video’s - So incredible - Miracle - Puzzle me *** Backstage Footage\"],\n",
       "      dtype=object)"
      ]
     },
     "execution_count": 36,
     "metadata": {},
     "output_type": "execute_result"
    }
   ],
   "source": [
    "df_movies.adult.unique()"
   ]
  },
  {
   "cell_type": "code",
   "execution_count": null,
   "metadata": {},
   "outputs": [],
   "source": []
  }
 ],
 "metadata": {
  "kernelspec": {
   "display_name": "Python 3",
   "language": "python",
   "name": "python3"
  },
  "language_info": {
   "codemirror_mode": {
    "name": "ipython",
    "version": 3
   },
   "file_extension": ".py",
   "mimetype": "text/x-python",
   "name": "python",
   "nbconvert_exporter": "python",
   "pygments_lexer": "ipython3",
   "version": "3.10.8"
  },
  "orig_nbformat": 4,
  "vscode": {
   "interpreter": {
    "hash": "908abd7e78fd4d71ba1be92795635fd82be5080a16e3cc7c1eae8bbfec458fa8"
   }
  }
 },
 "nbformat": 4,
 "nbformat_minor": 2
}
