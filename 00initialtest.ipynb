{
 "cells": [
  {
   "cell_type": "code",
   "execution_count": 6,
   "metadata": {},
   "outputs": [],
   "source": [
    "import numpy as np\n",
    "import pandas as pd\n",
    "import json\n",
    "import requests\n",
    "from datetime import datetime, timedelta\n",
    "\n",
    "import dataloader\n",
    "import time\n",
    "import helper\n",
    "import pyodbc"
   ]
  },
  {
   "cell_type": "code",
   "execution_count": 7,
   "metadata": {},
   "outputs": [],
   "source": [
    "apikey = helper.get_apikey()"
   ]
  },
  {
   "cell_type": "code",
   "execution_count": 8,
   "metadata": {},
   "outputs": [
    {
     "data": {
      "text/plain": [
       "'12_21_2022'"
      ]
     },
     "execution_count": 8,
     "metadata": {},
     "output_type": "execute_result"
    }
   ],
   "source": [
    "datetime.today()\n",
    "fetchdate = datetime.strftime(datetime.today() - timedelta(days=1), '%m_%d_%Y')\n",
    "fetchdate"
   ]
  },
  {
   "cell_type": "code",
   "execution_count": 3,
   "metadata": {},
   "outputs": [],
   "source": [
    "movies = pd.read_json(f'http://files.tmdb.org/p/exports/movie_ids_{fetchdate}.json.gz', lines=True)\n",
    "persons = pd.read_json(f'http://files.tmdb.org/p/exports/person_ids_{fetchdate}.json.gz', lines=True)\n",
    "companies = pd.read_json(f'http://files.tmdb.org/p/exports/production_company_ids_{fetchdate}.json.gz', lines=True)\n",
    "keywords = pd.read_json(f'http://files.tmdb.org/p/exports/keyword_ids_{fetchdate}.json.gz', lines=True)\n",
    "collections = pd.read_json(f'http://files.tmdb.org/p/exports/collection_ids_{fetchdate}.json.gz', lines=True)\n",
    "tvseries = pd.read_json(f'http://files.tmdb.org/p/exports/tv_series_ids_{fetchdate}.json.gz', lines=True)\n",
    "tvnetwork = pd.read_json(f'http://files.tmdb.org/p/exports/tv_network_ids_{fetchdate}.json.gz', lines=True)"
   ]
  },
  {
   "cell_type": "code",
   "execution_count": 4,
   "metadata": {},
   "outputs": [
    {
     "name": "stdout",
     "output_type": "stream",
     "text": [
      "DataFrame full loaded to Table: MovieIds\n"
     ]
    }
   ],
   "source": [
    "custom = {\"id\": \"INT PRIMARY KEY\", \"original_title\":\"nvarchar(max)\"}\n",
    "dataloader.full_load_with_index(df=movies, tbl=\"MovieIds\", custom=custom)"
   ]
  },
  {
   "cell_type": "code",
   "execution_count": 5,
   "metadata": {},
   "outputs": [
    {
     "name": "stdout",
     "output_type": "stream",
     "text": [
      "DataFrame full loaded to Table: Genres\n"
     ]
    }
   ],
   "source": [
    "dataurl = f'https://api.themoviedb.org/3/genre/movie/list?api_key={apikey}'\n",
    "data = json.loads(requests.get(dataurl).text)\n",
    "# df = pd.json_normalize(data)\n",
    "genres = pd.DataFrame.from_dict(data['genres'])\n",
    "custom = {\"id\": \"INT PRIMARY KEY\",}\n",
    "dataloader.full_load_with_index(df=genres, tbl=\"Genres\", custom=custom)"
   ]
  },
  {
   "cell_type": "code",
   "execution_count": 6,
   "metadata": {},
   "outputs": [
    {
     "name": "stdout",
     "output_type": "stream",
     "text": [
      "DataFrame full loaded to Table: Persons\n"
     ]
    }
   ],
   "source": [
    "custom = {\"id\": \"INT PRIMARY KEY\",}\n",
    "dataloader.full_load_with_index(df=persons, tbl=\"Persons\", custom=custom)\n",
    "del persons"
   ]
  },
  {
   "cell_type": "code",
   "execution_count": 4,
   "metadata": {},
   "outputs": [
    {
     "name": "stdout",
     "output_type": "stream",
     "text": [
      "DataFrame full loaded to Table: Companies\n"
     ]
    }
   ],
   "source": [
    "custom = {\"id\": \"INT PRIMARY KEY\",}\n",
    "dataloader.full_load_with_index(df=companies, tbl=\"Companies\", custom=custom)"
   ]
  },
  {
   "cell_type": "code",
   "execution_count": 8,
   "metadata": {},
   "outputs": [
    {
     "name": "stdout",
     "output_type": "stream",
     "text": [
      "DataFrame full loaded to Table: Keywords\n"
     ]
    }
   ],
   "source": [
    "custom = {\"id\": \"INT PRIMARY KEY\",}\n",
    "dataloader.full_load_with_index(df=keywords, tbl=\"Keywords\", custom=custom)"
   ]
  },
  {
   "cell_type": "code",
   "execution_count": 9,
   "metadata": {},
   "outputs": [
    {
     "name": "stdout",
     "output_type": "stream",
     "text": [
      "DataFrame full loaded to Table: Collections\n"
     ]
    }
   ],
   "source": [
    "custom = {\"id\": \"INT PRIMARY KEY\",}\n",
    "dataloader.full_load_with_index(df=collections, tbl=\"Collections\", custom=custom)"
   ]
  },
  {
   "cell_type": "code",
   "execution_count": 10,
   "metadata": {},
   "outputs": [
    {
     "name": "stdout",
     "output_type": "stream",
     "text": [
      "DataFrame full loaded to Table: TvSeries\n"
     ]
    }
   ],
   "source": [
    "custom = {\"id\": \"INT PRIMARY KEY\",}\n",
    "dataloader.full_load_with_index(df=tvseries, tbl=\"TvSeries\", custom=custom)"
   ]
  },
  {
   "cell_type": "code",
   "execution_count": null,
   "metadata": {},
   "outputs": [],
   "source": [
    "custom = {\"id\": \"INT PRIMARY KEY\",}\n",
    "dataloader.full_load_with_index(df=tvnetwork, tbl=\"TvNetwork\", custom=custom)"
   ]
  },
  {
   "cell_type": "code",
   "execution_count": 11,
   "metadata": {},
   "outputs": [
    {
     "name": "stderr",
     "output_type": "stream",
     "text": [
      "/var/folders/74/ndv7v28d3078l2cq22t43pkc0000gn/T/ipykernel_71533/2405849386.py:5: UserWarning: pandas only supports SQLAlchemy connectable (engine/connection) or database string URI or sqlite3 DBAPI2 connection. Other DBAPI2 objects are not tested. Please consider using SQLAlchemy.\n",
      "  ids = pd.read_sql(query, conn)\n"
     ]
    }
   ],
   "source": [
    "cstring = helper.get_connstring()\n",
    "with pyodbc.connect(cstring) as conn:\n",
    "    # query = \"select id from movieids\"\n",
    "    query = \"select id from movieids where id not in (select id from moviesraw)\"\n",
    "    ids = pd.read_sql(query, conn)"
   ]
  },
  {
   "cell_type": "code",
   "execution_count": 12,
   "metadata": {},
   "outputs": [
    {
     "name": "stdout",
     "output_type": "stream",
     "text": [
      "chunk: 2, Record: 1\n",
      "chunk: 2, Record: 2\n",
      "chunk: 2, Record: 3\n",
      "chunk: 2, Record: 4\n",
      "chunk: 2, Record: 5\n",
      "chunk: 2, Record: 6\n",
      "chunk: 2, Record: 7\n",
      "chunk: 2, Record: 8\n",
      "chunk: 2, Record: 9\n",
      "chunk: 2, Record: 10\n",
      "chunk: 2, Record: 11\n",
      "chunk: 2, Record: 12\n",
      "chunk: 2, Record: 13\n",
      "chunk: 2, Record: 14\n",
      "chunk: 2, Record: 15\n",
      "chunk: 2, Record: 16\n",
      "chunk: 2, Record: 17\n",
      "chunk: 2, Record: 18\n",
      "chunk: 2, Record: 19\n",
      "chunk: 2, Record: 20\n",
      "chunk: 2, Record: 21\n",
      "chunk: 2, Record: 22\n",
      "chunk: 2, Record: 23\n",
      "chunk: 2, Record: 24\n",
      "chunk: 2, Record: 25\n",
      "chunk: 2, Record: 26\n",
      "chunk: 2, Record: 27\n",
      "chunk: 2, Record: 28\n",
      "chunk: 2, Record: 29\n",
      "chunk: 2, Record: 30\n",
      "chunk: 2, Record: 31\n",
      "chunk: 2, Record: 32\n",
      "chunk: 2, Record: 33\n",
      "chunk: 2, Record: 34\n",
      "chunk: 2, Record: 35\n",
      "chunk: 2, Record: 36\n",
      "chunk: 2, Record: 37\n",
      "chunk: 2, Record: 38\n",
      "chunk: 2, Record: 39\n",
      "chunk: 2, Record: 40\n",
      "chunk: 2, Record: 41\n",
      "chunk: 2, Record: 42\n",
      "chunk: 2, Record: 43\n",
      "chunk: 2, Record: 44\n",
      "chunk: 2, Record: 45\n",
      "chunk: 2, Record: 46\n",
      "chunk: 2, Record: 47\n",
      "chunk: 2, Record: 48\n",
      "chunk: 2, Record: 49\n",
      "chunk: 2, Record: 50\n",
      "chunk: 2, Record: 51\n",
      "chunk: 2, Record: 52\n",
      "chunk: 2, Record: 53\n",
      "chunk: 2, Record: 54\n",
      "chunk: 2, Record: 55\n",
      "chunk: 2, Record: 56\n",
      "chunk: 2, Record: 57\n",
      "chunk: 2, Record: 58\n",
      "chunk: 2, Record: 59\n",
      "chunk: 2, Record: 60\n",
      "chunk: 2, Record: 61\n",
      "chunk: 2, Record: 62\n",
      "chunk: 2, Record: 63\n",
      "chunk: 2, Record: 64\n",
      "chunk: 2, Record: 65\n",
      "chunk: 2, Record: 66\n",
      "chunk: 2, Record: 67\n",
      "chunk: 2, Record: 68\n",
      "chunk: 2, Record: 69\n",
      "chunk: 2, Record: 70\n",
      "chunk: 2, Record: 71\n",
      "chunk: 2, Record: 72\n"
     ]
    }
   ],
   "source": [
    "x=2\n",
    "y=1\n",
    "\n",
    "for chunk in np.array_split(ids['id'], len(ids)//500 + 1):\n",
    "    session = requests.Session()\n",
    "    df_movies = None \n",
    "    dfs=[]\n",
    "    for i in chunk:\n",
    "        print(f\"chunk: {x}, Record: {y}\") \n",
    "        dataurl = f'https://api.themoviedb.org/3/movie/{i}?api_key={apikey}'\n",
    "        data = json.loads(session.get(dataurl, stream=False).text)\n",
    "        df = pd.json_normalize(data)\n",
    "        dfs.append(df)\n",
    "        y+=1\n",
    "    \n",
    "    df_movies = pd.concat(dfs)\n",
    "    df_movies = df_movies[['adult', 'backdrop_path', 'budget', 'genres', 'homepage', 'id',\n",
    "                            'imdb_id', 'original_language', 'original_title', 'overview',\n",
    "                            'popularity', 'poster_path', 'production_companies',\n",
    "                            'production_countries', 'release_date', 'revenue', 'runtime',\n",
    "                            'spoken_languages', 'status', 'tagline', 'title', 'video',\n",
    "                            'vote_average', 'vote_count', 'belongs_to_collection.id']]\n",
    "\n",
    "    df_movies.dropna(subset=['id'], axis=0, inplace=True)\n",
    "    df_movies['id'] = pd.to_numeric(df_movies.id, errors='coerce').astype('int')\n",
    "    df_movies['genres'] = df_movies['genres'].astype('str')\n",
    "    df_movies['production_companies'] = df_movies['production_companies'].astype('str')\n",
    "    df_movies['production_countries'] = df_movies['production_countries'].astype('str')\n",
    "    df_movies['spoken_languages'] = df_movies['spoken_languages'].astype('str')\n",
    "    \n",
    "    df_movies['vote_average'] = pd.to_numeric(df_movies.vote_average, errors='coerce')\n",
    "    df_movies['popularity'] = pd.to_numeric(df_movies.popularity, errors='coerce')\n",
    "    df_movies['adult'] = df_movies['adult'].astype('bool')\n",
    "    df_movies['video'] = df_movies['video'].astype('bool')\n",
    "    \n",
    "    \n",
    "    # df_movies['vote_average'] = [format(i, '.3f') for i in df_movies['vote_average']]\n",
    "    # df_movies['popularity'] = [format(i, '.3f') for i in df_movies['popularity']]\n",
    "    \n",
    "    # df_movies.to_csv('movies.csv', index=False)\n",
    "\n",
    "            \n",
    "    if x==1:   \n",
    "        custom = {\"id\": \"int PRIMARY KEY\", \"revenue\": \"bigint\", \"budget\": \"bigint\"}\n",
    "        dataloader.full_load_with_index(df=df_movies, tbl=\"MoviesRaw\", custom=custom, fastexecute=False)\n",
    "    else:\n",
    "        # df_movies = pd.read_csv('movies.csv', engine='python')\n",
    "        # print(df_movies.shape)\n",
    "        # df_movies.dropna(subset=['id'], axis=0, inplace=True)\n",
    "        # df_movies = df_movies.astype('object')\n",
    "        dataloader.inc_load_with_index(df=df_movies, tbl=\"MoviesRaw\", fastexecute=False)\n",
    "    print(f\"Loaded chunk: {x}\")  \n",
    "    x+=1\n",
    "    session.close()\n",
    "    del dfs\n",
    "    del session\n",
    "    "
   ]
  },
  {
   "cell_type": "code",
   "execution_count": 17,
   "metadata": {},
   "outputs": [
    {
     "data": {
      "text/plain": [
       "0    False\n",
       "0    False\n",
       "0    False\n",
       "0    False\n",
       "0    False\n",
       "     ...  \n",
       "0    False\n",
       "0    False\n",
       "0    False\n",
       "0    False\n",
       "0    False\n",
       "Name: adult, Length: 728, dtype: bool"
      ]
     },
     "execution_count": 17,
     "metadata": {},
     "output_type": "execute_result"
    }
   ],
   "source": [
    "df_movies['adult'].astype('bool')"
   ]
  },
  {
   "cell_type": "code",
   "execution_count": 5,
   "metadata": {},
   "outputs": [
    {
     "data": {
      "text/plain": [
       "Index(['adult', 'backdrop_path', 'budget', 'genres', 'homepage', 'id',\n",
       "       'imdb_id', 'original_language', 'original_title', 'overview',\n",
       "       'popularity', 'poster_path', 'production_companies',\n",
       "       'production_countries', 'release_date', 'revenue', 'runtime',\n",
       "       'spoken_languages', 'status', 'tagline', 'title', 'video',\n",
       "       'vote_average', 'vote_count', 'belongs_to_collection.id', 'success',\n",
       "       'status_code', 'status_message'],\n",
       "      dtype='object')"
      ]
     },
     "execution_count": 5,
     "metadata": {},
     "output_type": "execute_result"
    }
   ],
   "source": [
    "df_movies.columns"
   ]
  },
  {
   "cell_type": "code",
   "execution_count": 11,
   "metadata": {},
   "outputs": [
    {
     "data": {
      "text/plain": [
       "0    4.700\n",
       "0    5.800\n",
       "0    6.500\n",
       "0    3.500\n",
       "0    5.000\n",
       "     ...  \n",
       "0    5.643\n",
       "0    5.100\n",
       "0    0.000\n",
       "0    5.000\n",
       "0    6.800\n",
       "Name: vote_average, Length: 728, dtype: float64"
      ]
     },
     "execution_count": 11,
     "metadata": {},
     "output_type": "execute_result"
    }
   ],
   "source": [
    "pd.to_numeric(df_movies.vote_average, errors='coerce')"
   ]
  },
  {
   "cell_type": "code",
   "execution_count": 53,
   "metadata": {},
   "outputs": [
    {
     "data": {
      "text/plain": [
       "0      224423.0\n",
       "1      224438.0\n",
       "2      224455.0\n",
       "3      224473.0\n",
       "4      224538.0\n",
       "         ...   \n",
       "964     58100.0\n",
       "965     58131.0\n",
       "966     58132.0\n",
       "967     58149.0\n",
       "968     58164.0\n",
       "Name: id, Length: 952, dtype: float64"
      ]
     },
     "execution_count": 53,
     "metadata": {},
     "output_type": "execute_result"
    }
   ],
   "source": [
    "pd.to_numeric(df_test.id, errors='coerce')"
   ]
  },
  {
   "cell_type": "code",
   "execution_count": 48,
   "metadata": {},
   "outputs": [
    {
     "data": {
      "text/plain": [
       "0      False\n",
       "1      False\n",
       "2      False\n",
       "3      False\n",
       "4      False\n",
       "       ...  \n",
       "964    False\n",
       "965    False\n",
       "966    False\n",
       "967    False\n",
       "968    False\n",
       "Name: id, Length: 952, dtype: bool"
      ]
     },
     "execution_count": 48,
     "metadata": {},
     "output_type": "execute_result"
    }
   ],
   "source": [
    "df_test.id.astype('str').str.isnumeric()"
   ]
  },
  {
   "cell_type": "code",
   "execution_count": 17,
   "metadata": {},
   "outputs": [
    {
     "data": {
      "text/plain": [
       "1820             0\n",
       "5073    1889-01-14\n",
       "5575    1890-01-01\n",
       "5576    1890-11-21\n",
       "5165    1890-11-21\n",
       "           ...    \n",
       "5349           NaN\n",
       "7532           NaN\n",
       "7539           NaN\n",
       "7571           NaN\n",
       "7607           NaN\n",
       "Name: release_date, Length: 7651, dtype: object"
      ]
     },
     "execution_count": 17,
     "metadata": {},
     "output_type": "execute_result"
    }
   ],
   "source": [
    "df_movies['release_date'].sort_values() #= pd.to_datetime(df_movies['release_date']).dt.normalize()"
   ]
  },
  {
   "cell_type": "code",
   "execution_count": 17,
   "metadata": {},
   "outputs": [],
   "source": [
    "df_movies"
   ]
  },
  {
   "cell_type": "code",
   "execution_count": null,
   "metadata": {},
   "outputs": [],
   "source": []
  }
 ],
 "metadata": {
  "kernelspec": {
   "display_name": "Python 3",
   "language": "python",
   "name": "python3"
  },
  "language_info": {
   "codemirror_mode": {
    "name": "ipython",
    "version": 3
   },
   "file_extension": ".py",
   "mimetype": "text/x-python",
   "name": "python",
   "nbconvert_exporter": "python",
   "pygments_lexer": "ipython3",
   "version": "3.10.8"
  },
  "orig_nbformat": 4,
  "vscode": {
   "interpreter": {
    "hash": "908abd7e78fd4d71ba1be92795635fd82be5080a16e3cc7c1eae8bbfec458fa8"
   }
  }
 },
 "nbformat": 4,
 "nbformat_minor": 2
}
