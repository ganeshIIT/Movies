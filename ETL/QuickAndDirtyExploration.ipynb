{
  "cells": [
    {
      "cell_type": "markdown",
      "metadata": {
        "colab_type": "text",
        "id": "view-in-github"
      },
      "source": [
        "<a href=\"https://colab.research.google.com/github/ganeshIIT/airbnb/blob/master/airbnb_exploration.ipynb\" target=\"_parent\"><img src=\"https://colab.research.google.com/assets/colab-badge.svg\" alt=\"Open In Colab\"/></a>"
      ]
    },
    {
      "cell_type": "code",
      "execution_count": 1,
      "metadata": {
        "id": "sCnOh23gqDrz"
      },
      "outputs": [],
      "source": [
        "import re\n",
        "\n",
        "import numpy as np\n",
        "import pandas as pd\n",
        "import matplotlib.pyplot as plt\n",
        "import seaborn as sns\n",
        "from ast import literal_eval\n",
        "import pyodbc\n",
        "\n",
        "import helper\n",
        "import dataloader"
      ]
    },
    {
      "cell_type": "code",
      "execution_count": null,
      "metadata": {},
      "outputs": [],
      "source": [
        "apikey = helper.get_apikey()"
      ]
    },
    {
      "cell_type": "code",
      "execution_count": 2,
      "metadata": {},
      "outputs": [
        {
          "name": "stderr",
          "output_type": "stream",
          "text": [
            "/var/folders/74/ndv7v28d3078l2cq22t43pkc0000gn/T/ipykernel_29871/2223166044.py:9: UserWarning: pandas only supports SQLAlchemy connectable (engine/connection) or database string URI or sqlite3 DBAPI2 connection. Other DBAPI2 objects are not tested. Please consider using SQLAlchemy.\n",
            "  df_movies = pd.read_sql(query, conn)\n"
          ]
        }
      ],
      "source": [
        "cstring = helper.get_connstring()\n",
        "with pyodbc.connect(cstring) as conn:\n",
        "    query = '''select id, original_language, original_title, overview,\n",
        "        adult, backdrop_path, budget, homepage, imdb_id, \n",
        "       popularity, poster_path, release_date, revenue, runtime,\n",
        "       status, tagline, title, video,\n",
        "       vote_average, vote_count, [belongs_to_collection.id]\n",
        "       from moviesraw'''\n",
        "    df_movies = pd.read_sql(query, conn)"
      ]
    },
    {
      "cell_type": "code",
      "execution_count": 60,
      "metadata": {},
      "outputs": [],
      "source": [
        "df_movies= df_movies[['id', 'original_language', 'original_title', 'overview',\n",
        "          'adult', 'backdrop_path', 'budget', 'homepage', 'imdb_id', \n",
        "       'popularity', 'poster_path', 'release_date', 'revenue', 'runtime',\n",
        "        'status', 'tagline', 'title', 'video',\n",
        "       'vote_average', 'vote_count', 'belongs_to_collection.id']]"
      ]
    },
    {
      "cell_type": "code",
      "execution_count": 61,
      "metadata": {},
      "outputs": [
        {
          "name": "stdout",
          "output_type": "stream",
          "text": [
            "<class 'pandas.core.frame.DataFrame'>\n",
            "RangeIndex: 182643 entries, 0 to 182642\n",
            "Data columns (total 21 columns):\n",
            " #   Column                    Non-Null Count   Dtype         \n",
            "---  ------                    --------------   -----         \n",
            " 0   id                        182643 non-null  int64         \n",
            " 1   original_language         182643 non-null  object        \n",
            " 2   original_title            182643 non-null  object        \n",
            " 3   overview                  182643 non-null  object        \n",
            " 4   adult                     182643 non-null  bool          \n",
            " 5   backdrop_path             80593 non-null   object        \n",
            " 6   budget                    182643 non-null  int64         \n",
            " 7   homepage                  182643 non-null  object        \n",
            " 8   imdb_id                   177268 non-null  object        \n",
            " 9   popularity                182642 non-null  float64       \n",
            " 10  poster_path               138576 non-null  object        \n",
            " 11  release_date              178395 non-null  datetime64[ns]\n",
            " 12  revenue                   182643 non-null  int64         \n",
            " 13  runtime                   182643 non-null  int64         \n",
            " 14  status                    182643 non-null  object        \n",
            " 15  tagline                   182643 non-null  object        \n",
            " 16  title                     182643 non-null  object        \n",
            " 17  video                     182643 non-null  bool          \n",
            " 18  vote_average              182642 non-null  float64       \n",
            " 19  vote_count                182642 non-null  float64       \n",
            " 20  belongs_to_collection.id  11190 non-null   float64       \n",
            "dtypes: bool(2), datetime64[ns](1), float64(4), int64(4), object(10)\n",
            "memory usage: 26.8+ MB\n"
          ]
        }
      ],
      "source": [
        "df_movies.info()"
      ]
    },
    {
      "cell_type": "code",
      "execution_count": 62,
      "metadata": {},
      "outputs": [],
      "source": [
        "df_movies = (\n",
        "    df_movies\n",
        "            # .query('id.str.isnumeric()==True')\n",
        "            .assign(\n",
        "                # id = lambda x: x['id'].astype('int'),\n",
        "                # adult = lambda x: x['adult'].apply(lambda y: 1 if (y=='1' or y=='True') else 0).astype('boolean'),\n",
        "                release_date = lambda x: pd.to_datetime(x['release_date'].replace({0:np.NaN})).dt.normalize(),\n",
        "                # budget = lambda x: x['budget'].fillna(0).astype('float').astype('int'),\n",
        "                # revenue = lambda x: x['revenue'].fillna(0).astype('float').astype('int'),\n",
        "                # runtime = lambda x: x['runtime'].fillna(0).astype('float').astype('int'),\n",
        "                # popularity = lambda x: x['popularity'].astype('float'),\n",
        "                # vote_average = lambda x: x['vote_average'].astype('float'),\n",
        "                # vote_count = lambda x: x['vote_count'].fillna(0).astype('float').astype('int'),\n",
        "                    )\n",
        ")"
      ]
    },
    {
      "cell_type": "code",
      "execution_count": 63,
      "metadata": {},
      "outputs": [
        {
          "name": "stdout",
          "output_type": "stream",
          "text": [
            "DataFrame full loaded to Table: Movies\n"
          ]
        }
      ],
      "source": [
        "custom = {\"id\": \"int PRIMARY KEY\", \"revenue\": \"bigint\", \"budget\": \"bigint\", \"release_date\": \"DATE\"}\n",
        "dataloader.full_load_with_index(df=df_movies, tbl=\"Movies\", custom=custom)"
      ]
    },
    {
      "cell_type": "code",
      "execution_count": null,
      "metadata": {},
      "outputs": [],
      "source": []
    },
    {
      "cell_type": "code",
      "execution_count": null,
      "metadata": {},
      "outputs": [],
      "source": []
    },
    {
      "cell_type": "code",
      "execution_count": null,
      "metadata": {},
      "outputs": [],
      "source": []
    },
    {
      "cell_type": "code",
      "execution_count": null,
      "metadata": {},
      "outputs": [],
      "source": []
    },
    {
      "cell_type": "code",
      "execution_count": 43,
      "metadata": {
        "colab": {
          "base_uri": "https://localhost:8080/",
          "height": 679
        },
        "id": "EZ1A6AmeqHc5",
        "outputId": "4c1659a9-35cc-4862-bf09-3aa1926e5d52"
      },
      "outputs": [
        {
          "name": "stderr",
          "output_type": "stream",
          "text": [
            "/var/folders/74/ndv7v28d3078l2cq22t43pkc0000gn/T/ipykernel_29871/2613549318.py:4: UserWarning: pandas only supports SQLAlchemy connectable (engine/connection) or database string URI or sqlite3 DBAPI2 connection. Other DBAPI2 objects are not tested. Please consider using SQLAlchemy.\n",
            "  df_genres = pd.read_sql(query, conn)\n"
          ]
        }
      ],
      "source": [
        "cstring = helper.get_connstring()\n",
        "with pyodbc.connect(cstring) as conn:\n",
        "    query = \"select id, genres from moviesraw\"\n",
        "    df_genres = pd.read_sql(query, conn)"
      ]
    },
    {
      "cell_type": "code",
      "execution_count": 44,
      "metadata": {},
      "outputs": [],
      "source": [
        "df_genres = (\n",
        "   df_genres.assign(genres = lambda x: x['genres'].apply(lambda x: literal_eval(x)))\n",
        "      .explode('genres')\n",
        "      .dropna()\n",
        "      .assign(genres = lambda x: x['genres'].apply(lambda y: y['id']))\n",
        "      .rename(columns={'id':'movieid', 'genres': 'genreid'})\n",
        "      .drop_duplicates()\n",
        ")"
      ]
    },
    {
      "cell_type": "code",
      "execution_count": 64,
      "metadata": {},
      "outputs": [
        {
          "name": "stdout",
          "output_type": "stream",
          "text": [
            "DataFrame full loaded to Table: MovieGenres\n"
          ]
        }
      ],
      "source": [
        "# custom = {\"movieid\": \"int PRIMARY KEY\", \"genreid\": \"int PRIMARY KEY\"}\n",
        "custom = {\"movieid\": \"int not null\", \"genreid\": \"int not null\"}\n",
        "dataloader.full_load_with_index(df=df_genres, tbl=\"MovieGenres\", custom=custom)"
      ]
    },
    {
      "cell_type": "code",
      "execution_count": 46,
      "metadata": {},
      "outputs": [
        {
          "name": "stderr",
          "output_type": "stream",
          "text": [
            "/var/folders/74/ndv7v28d3078l2cq22t43pkc0000gn/T/ipykernel_29871/4003148370.py:4: UserWarning: pandas only supports SQLAlchemy connectable (engine/connection) or database string URI or sqlite3 DBAPI2 connection. Other DBAPI2 objects are not tested. Please consider using SQLAlchemy.\n",
            "  df_companies = pd.read_sql(query, conn)\n"
          ]
        }
      ],
      "source": [
        "cstring = helper.get_connstring()\n",
        "with pyodbc.connect(cstring) as conn:\n",
        "    query = \"select id, production_companies from moviesraw\"\n",
        "    df_companies = pd.read_sql(query, conn)"
      ]
    },
    {
      "cell_type": "code",
      "execution_count": 48,
      "metadata": {},
      "outputs": [],
      "source": [
        "df_companies = (\n",
        "   df_companies.assign(production_companies = lambda x: x['production_companies'].apply(lambda x: literal_eval(str(x))))\n",
        "       .explode('production_companies')\n",
        "       .dropna()\n",
        "       .assign(production_companies = lambda x: x['production_companies'].apply(lambda y: y['id']))\n",
        "       .rename(columns={'id':'movieid', 'production_companies': 'productioncompanyid'})\n",
        "       .drop_duplicates()\n",
        ")"
      ]
    },
    {
      "cell_type": "code",
      "execution_count": 18,
      "metadata": {},
      "outputs": [
        {
          "data": {
            "text/html": [
              "<div>\n",
              "<style scoped>\n",
              "    .dataframe tbody tr th:only-of-type {\n",
              "        vertical-align: middle;\n",
              "    }\n",
              "\n",
              "    .dataframe tbody tr th {\n",
              "        vertical-align: top;\n",
              "    }\n",
              "\n",
              "    .dataframe thead th {\n",
              "        text-align: right;\n",
              "    }\n",
              "</style>\n",
              "<table border=\"1\" class=\"dataframe\">\n",
              "  <thead>\n",
              "    <tr style=\"text-align: right;\">\n",
              "      <th></th>\n",
              "      <th>movieid</th>\n",
              "      <th>productioncompanyid</th>\n",
              "    </tr>\n",
              "  </thead>\n",
              "  <tbody>\n",
              "    <tr>\n",
              "      <th>0</th>\n",
              "      <td>2</td>\n",
              "      <td>2303</td>\n",
              "    </tr>\n",
              "    <tr>\n",
              "      <th>1</th>\n",
              "      <td>3</td>\n",
              "      <td>2303</td>\n",
              "    </tr>\n",
              "    <tr>\n",
              "      <th>2</th>\n",
              "      <td>5</td>\n",
              "      <td>14</td>\n",
              "    </tr>\n",
              "    <tr>\n",
              "      <th>2</th>\n",
              "      <td>5</td>\n",
              "      <td>59</td>\n",
              "    </tr>\n",
              "    <tr>\n",
              "      <th>3</th>\n",
              "      <td>6</td>\n",
              "      <td>182</td>\n",
              "    </tr>\n",
              "    <tr>\n",
              "      <th>...</th>\n",
              "      <td>...</td>\n",
              "      <td>...</td>\n",
              "    </tr>\n",
              "    <tr>\n",
              "      <th>182638</th>\n",
              "      <td>426928</td>\n",
              "      <td>749</td>\n",
              "    </tr>\n",
              "    <tr>\n",
              "      <th>182639</th>\n",
              "      <td>426941</td>\n",
              "      <td>81715</td>\n",
              "    </tr>\n",
              "    <tr>\n",
              "      <th>182640</th>\n",
              "      <td>426942</td>\n",
              "      <td>110436</td>\n",
              "    </tr>\n",
              "    <tr>\n",
              "      <th>182642</th>\n",
              "      <td>426959</td>\n",
              "      <td>11617</td>\n",
              "    </tr>\n",
              "    <tr>\n",
              "      <th>182642</th>\n",
              "      <td>426959</td>\n",
              "      <td>90888</td>\n",
              "    </tr>\n",
              "  </tbody>\n",
              "</table>\n",
              "<p>188596 rows × 2 columns</p>\n",
              "</div>"
            ],
            "text/plain": [
              "        movieid  productioncompanyid\n",
              "0             2                 2303\n",
              "1             3                 2303\n",
              "2             5                   14\n",
              "2             5                   59\n",
              "3             6                  182\n",
              "...         ...                  ...\n",
              "182638   426928                  749\n",
              "182639   426941                81715\n",
              "182640   426942               110436\n",
              "182642   426959                11617\n",
              "182642   426959                90888\n",
              "\n",
              "[188596 rows x 2 columns]"
            ]
          },
          "execution_count": 18,
          "metadata": {},
          "output_type": "execute_result"
        }
      ],
      "source": [
        "df_companies"
      ]
    },
    {
      "cell_type": "code",
      "execution_count": 49,
      "metadata": {},
      "outputs": [
        {
          "name": "stdout",
          "output_type": "stream",
          "text": [
            "DataFrame full loaded to Table: ProductionCompanies\n"
          ]
        }
      ],
      "source": [
        "custom = {\"movieid\": \"int not null\", \"productioncompanyid\": \"int not null\"}\n",
        "dataloader.full_load_with_index(df=df_companies, tbl=\"ProductionCompanies\", custom=custom)"
      ]
    },
    {
      "cell_type": "code",
      "execution_count": null,
      "metadata": {},
      "outputs": [],
      "source": []
    },
    {
      "cell_type": "code",
      "execution_count": 50,
      "metadata": {},
      "outputs": [
        {
          "name": "stderr",
          "output_type": "stream",
          "text": [
            "/var/folders/74/ndv7v28d3078l2cq22t43pkc0000gn/T/ipykernel_29871/2612712173.py:4: UserWarning: pandas only supports SQLAlchemy connectable (engine/connection) or database string URI or sqlite3 DBAPI2 connection. Other DBAPI2 objects are not tested. Please consider using SQLAlchemy.\n",
            "  df_countries = pd.read_sql(query, conn)\n"
          ]
        }
      ],
      "source": [
        "cstring = helper.get_connstring()\n",
        "with pyodbc.connect(cstring) as conn:\n",
        "    query = \"select id, production_countries from moviesraw\"\n",
        "    df_countries = pd.read_sql(query, conn)"
      ]
    },
    {
      "cell_type": "code",
      "execution_count": 52,
      "metadata": {},
      "outputs": [],
      "source": [
        "df_countries=(\n",
        "   df_countries.assign(production_countries = lambda x: x['production_countries'].apply(lambda x: literal_eval(str(x))))\n",
        "       .explode('production_countries')\n",
        "       .dropna()\n",
        "       .assign(production_countries = lambda x: x['production_countries'].apply(lambda y: y['name']))\n",
        "       .rename(columns={'id':'movieid', 'production_countries':'productioncountry'})\n",
        "       .drop_duplicates()\n",
        ")"
      ]
    },
    {
      "cell_type": "code",
      "execution_count": 53,
      "metadata": {},
      "outputs": [
        {
          "data": {
            "text/html": [
              "<div>\n",
              "<style scoped>\n",
              "    .dataframe tbody tr th:only-of-type {\n",
              "        vertical-align: middle;\n",
              "    }\n",
              "\n",
              "    .dataframe tbody tr th {\n",
              "        vertical-align: top;\n",
              "    }\n",
              "\n",
              "    .dataframe thead th {\n",
              "        text-align: right;\n",
              "    }\n",
              "</style>\n",
              "<table border=\"1\" class=\"dataframe\">\n",
              "  <thead>\n",
              "    <tr style=\"text-align: right;\">\n",
              "      <th></th>\n",
              "      <th>movieid</th>\n",
              "      <th>productioncountry</th>\n",
              "    </tr>\n",
              "  </thead>\n",
              "  <tbody>\n",
              "    <tr>\n",
              "      <th>0</th>\n",
              "      <td>2</td>\n",
              "      <td>Finland</td>\n",
              "    </tr>\n",
              "    <tr>\n",
              "      <th>1</th>\n",
              "      <td>3</td>\n",
              "      <td>Finland</td>\n",
              "    </tr>\n",
              "    <tr>\n",
              "      <th>2</th>\n",
              "      <td>5</td>\n",
              "      <td>United States of America</td>\n",
              "    </tr>\n",
              "    <tr>\n",
              "      <th>3</th>\n",
              "      <td>6</td>\n",
              "      <td>United States of America</td>\n",
              "    </tr>\n",
              "    <tr>\n",
              "      <th>4</th>\n",
              "      <td>8</td>\n",
              "      <td>Austria</td>\n",
              "    </tr>\n",
              "    <tr>\n",
              "      <th>...</th>\n",
              "      <td>...</td>\n",
              "      <td>...</td>\n",
              "    </tr>\n",
              "    <tr>\n",
              "      <th>182638</th>\n",
              "      <td>426928</td>\n",
              "      <td>France</td>\n",
              "    </tr>\n",
              "    <tr>\n",
              "      <th>182639</th>\n",
              "      <td>426941</td>\n",
              "      <td>Spain</td>\n",
              "    </tr>\n",
              "    <tr>\n",
              "      <th>182640</th>\n",
              "      <td>426942</td>\n",
              "      <td>Romania</td>\n",
              "    </tr>\n",
              "    <tr>\n",
              "      <th>182641</th>\n",
              "      <td>426945</td>\n",
              "      <td>Honduras</td>\n",
              "    </tr>\n",
              "    <tr>\n",
              "      <th>182642</th>\n",
              "      <td>426959</td>\n",
              "      <td>United States of America</td>\n",
              "    </tr>\n",
              "  </tbody>\n",
              "</table>\n",
              "<p>157687 rows × 2 columns</p>\n",
              "</div>"
            ],
            "text/plain": [
              "        movieid         productioncountry\n",
              "0             2                   Finland\n",
              "1             3                   Finland\n",
              "2             5  United States of America\n",
              "3             6  United States of America\n",
              "4             8                   Austria\n",
              "...         ...                       ...\n",
              "182638   426928                    France\n",
              "182639   426941                     Spain\n",
              "182640   426942                   Romania\n",
              "182641   426945                  Honduras\n",
              "182642   426959  United States of America\n",
              "\n",
              "[157687 rows x 2 columns]"
            ]
          },
          "execution_count": 53,
          "metadata": {},
          "output_type": "execute_result"
        }
      ],
      "source": [
        "df_countries"
      ]
    },
    {
      "cell_type": "code",
      "execution_count": 54,
      "metadata": {},
      "outputs": [
        {
          "name": "stdout",
          "output_type": "stream",
          "text": [
            "DataFrame full loaded to Table: ProductionCountries\n"
          ]
        }
      ],
      "source": [
        "custom = {\"movieid\": \"int not null\", \"productioncountry\": \"varchar(255) not null\"}\n",
        "dataloader.full_load_with_index(df=df_countries, tbl=\"ProductionCountries\", custom=custom)"
      ]
    },
    {
      "cell_type": "code",
      "execution_count": 55,
      "metadata": {},
      "outputs": [
        {
          "name": "stderr",
          "output_type": "stream",
          "text": [
            "/var/folders/74/ndv7v28d3078l2cq22t43pkc0000gn/T/ipykernel_29871/2513746654.py:4: UserWarning: pandas only supports SQLAlchemy connectable (engine/connection) or database string URI or sqlite3 DBAPI2 connection. Other DBAPI2 objects are not tested. Please consider using SQLAlchemy.\n",
            "  df_spoken = pd.read_sql(query, conn)\n"
          ]
        }
      ],
      "source": [
        "cstring = helper.get_connstring()\n",
        "with pyodbc.connect(cstring) as conn:\n",
        "    query = \"select id, spoken_languages from moviesraw\"\n",
        "    df_spoken = pd.read_sql(query, conn)"
      ]
    },
    {
      "cell_type": "code",
      "execution_count": 56,
      "metadata": {},
      "outputs": [],
      "source": [
        "df_spoken= (\n",
        "   df_spoken.assign(spoken_languages = lambda x: x['spoken_languages'].apply(lambda x: literal_eval(str(x))))\n",
        "       .explode('spoken_languages')\n",
        "       .dropna()\n",
        "       .assign(spoken_languages = lambda x: x['spoken_languages'].apply(lambda y: y['english_name']))\n",
        "       .rename(columns={'id':'movieid', 'spoken_languages':'spokenlanguage'})\n",
        "       .drop_duplicates()\n",
        ")"
      ]
    },
    {
      "cell_type": "code",
      "execution_count": 58,
      "metadata": {},
      "outputs": [
        {
          "name": "stdout",
          "output_type": "stream",
          "text": [
            "DataFrame full loaded to Table: SpokenLanguages\n"
          ]
        }
      ],
      "source": [
        "custom = {\"movieid\": \"int not null\", \"spokenlanguage\": \"varchar(255) not null\"}\n",
        "dataloader.full_load_with_index(df=df_spoken, tbl=\"SpokenLanguages\", custom=custom)"
      ]
    },
    {
      "cell_type": "code",
      "execution_count": null,
      "metadata": {},
      "outputs": [],
      "source": []
    },
    {
      "cell_type": "code",
      "execution_count": null,
      "metadata": {},
      "outputs": [],
      "source": [
        "# ALTER TABLE Genres\n",
        "# ADD CONSTRAINT PK_movie_genre PRIMARY KEY (movieid,genreid);\n",
        "\n",
        "# ALTER TABLE SpokenLanguages\n",
        "# ADD CONSTRAINT PK_movie_language PRIMARY KEY (movieid,spokenlanguage);\n",
        "\n",
        "# ALTER TABLE ProductionCompanies\n",
        "# ADD CONSTRAINT PK_movie_company PRIMARY KEY (movieid,productioncompanyid);\n",
        "\n",
        "# ALTER TABLE ProductionCountries\n",
        "# ADD CONSTRAINT PK_movie_country PRIMARY KEY (movieid,productioncountry);"
      ]
    },
    {
      "cell_type": "code",
      "execution_count": null,
      "metadata": {},
      "outputs": [],
      "source": []
    },
    {
      "cell_type": "code",
      "execution_count": 90,
      "metadata": {},
      "outputs": [
        {
          "name": "stderr",
          "output_type": "stream",
          "text": [
            "/var/folders/74/ndv7v28d3078l2cq22t43pkc0000gn/T/ipykernel_29871/1804200230.py:3: UserWarning: pandas only supports SQLAlchemy connectable (engine/connection) or database string URI or sqlite3 DBAPI2 connection. Other DBAPI2 objects are not tested. Please consider using SQLAlchemy.\n",
            "  dbmovieids = pd.read_sql(query, conn)\n"
          ]
        }
      ],
      "source": [
        "with pyodbc.connect(cstring) as conn:\n",
        "        query = \"select id from movieids\"\n",
        "        dbmovieids = pd.read_sql(query, conn)"
      ]
    },
    {
      "cell_type": "code",
      "execution_count": 91,
      "metadata": {},
      "outputs": [],
      "source": [
        "from datetime import datetime, timedelta\n",
        "fetchdate = datetime.strftime(datetime.today() - timedelta(days=1), '%m_%d_%Y')\n",
        "movieids =  pd.read_json(f'http://files.tmdb.org/p/exports/movie_ids_{fetchdate}.json.gz', lines=True)"
      ]
    },
    {
      "cell_type": "code",
      "execution_count": 96,
      "metadata": {},
      "outputs": [
        {
          "data": {
            "text/html": [
              "<div>\n",
              "<style scoped>\n",
              "    .dataframe tbody tr th:only-of-type {\n",
              "        vertical-align: middle;\n",
              "    }\n",
              "\n",
              "    .dataframe tbody tr th {\n",
              "        vertical-align: top;\n",
              "    }\n",
              "\n",
              "    .dataframe thead th {\n",
              "        text-align: right;\n",
              "    }\n",
              "</style>\n",
              "<table border=\"1\" class=\"dataframe\">\n",
              "  <thead>\n",
              "    <tr style=\"text-align: right;\">\n",
              "      <th></th>\n",
              "      <th>adult</th>\n",
              "      <th>id</th>\n",
              "      <th>original_title</th>\n",
              "      <th>popularity</th>\n",
              "      <th>video</th>\n",
              "    </tr>\n",
              "  </thead>\n",
              "  <tbody>\n",
              "    <tr>\n",
              "      <th>764799</th>\n",
              "      <td>False</td>\n",
              "      <td>1063532</td>\n",
              "      <td>Blur</td>\n",
              "      <td>1.4</td>\n",
              "      <td>False</td>\n",
              "    </tr>\n",
              "    <tr>\n",
              "      <th>764800</th>\n",
              "      <td>False</td>\n",
              "      <td>1063533</td>\n",
              "      <td>WHY I HATE TIME TRAVEL</td>\n",
              "      <td>1.4</td>\n",
              "      <td>False</td>\n",
              "    </tr>\n",
              "    <tr>\n",
              "      <th>764801</th>\n",
              "      <td>False</td>\n",
              "      <td>1063534</td>\n",
              "      <td>楼</td>\n",
              "      <td>1.4</td>\n",
              "      <td>False</td>\n",
              "    </tr>\n",
              "    <tr>\n",
              "      <th>764802</th>\n",
              "      <td>False</td>\n",
              "      <td>1063535</td>\n",
              "      <td>Christmas Around the World</td>\n",
              "      <td>0.6</td>\n",
              "      <td>False</td>\n",
              "    </tr>\n",
              "    <tr>\n",
              "      <th>764803</th>\n",
              "      <td>False</td>\n",
              "      <td>1063536</td>\n",
              "      <td>Walk-Through</td>\n",
              "      <td>0.6</td>\n",
              "      <td>False</td>\n",
              "    </tr>\n",
              "    <tr>\n",
              "      <th>...</th>\n",
              "      <td>...</td>\n",
              "      <td>...</td>\n",
              "      <td>...</td>\n",
              "      <td>...</td>\n",
              "      <td>...</td>\n",
              "    </tr>\n",
              "    <tr>\n",
              "      <th>765073</th>\n",
              "      <td>False</td>\n",
              "      <td>1063862</td>\n",
              "      <td>Voldemort: Origins of the Heir</td>\n",
              "      <td>0.0</td>\n",
              "      <td>False</td>\n",
              "    </tr>\n",
              "    <tr>\n",
              "      <th>765074</th>\n",
              "      <td>False</td>\n",
              "      <td>1063863</td>\n",
              "      <td>七月返歸</td>\n",
              "      <td>0.0</td>\n",
              "      <td>False</td>\n",
              "    </tr>\n",
              "    <tr>\n",
              "      <th>765075</th>\n",
              "      <td>False</td>\n",
              "      <td>1063864</td>\n",
              "      <td>Taevatrepp</td>\n",
              "      <td>0.0</td>\n",
              "      <td>False</td>\n",
              "    </tr>\n",
              "    <tr>\n",
              "      <th>765076</th>\n",
              "      <td>False</td>\n",
              "      <td>1063865</td>\n",
              "      <td>Just Above My Head</td>\n",
              "      <td>0.0</td>\n",
              "      <td>False</td>\n",
              "    </tr>\n",
              "    <tr>\n",
              "      <th>765077</th>\n",
              "      <td>False</td>\n",
              "      <td>1063866</td>\n",
              "      <td>The Crossing</td>\n",
              "      <td>0.0</td>\n",
              "      <td>False</td>\n",
              "    </tr>\n",
              "  </tbody>\n",
              "</table>\n",
              "<p>279 rows × 5 columns</p>\n",
              "</div>"
            ],
            "text/plain": [
              "        adult       id                  original_title  popularity  video\n",
              "764799  False  1063532                            Blur         1.4  False\n",
              "764800  False  1063533          WHY I HATE TIME TRAVEL         1.4  False\n",
              "764801  False  1063534                               楼         1.4  False\n",
              "764802  False  1063535      Christmas Around the World         0.6  False\n",
              "764803  False  1063536                    Walk-Through         0.6  False\n",
              "...       ...      ...                             ...         ...    ...\n",
              "765073  False  1063862  Voldemort: Origins of the Heir         0.0  False\n",
              "765074  False  1063863                            七月返歸         0.0  False\n",
              "765075  False  1063864                      Taevatrepp         0.0  False\n",
              "765076  False  1063865              Just Above My Head         0.0  False\n",
              "765077  False  1063866                    The Crossing         0.0  False\n",
              "\n",
              "[279 rows x 5 columns]"
            ]
          },
          "execution_count": 96,
          "metadata": {},
          "output_type": "execute_result"
        }
      ],
      "source": [
        "movieids.loc[~movieids['id'].isin(dbmovieids['id'])]"
      ]
    },
    {
      "cell_type": "code",
      "execution_count": 92,
      "metadata": {},
      "outputs": [
        {
          "data": {
            "text/plain": [
              "[764821, 765078]"
            ]
          },
          "execution_count": 92,
          "metadata": {},
          "output_type": "execute_result"
        }
      ],
      "source": [
        "helper.get_row_count(dbmovieids, movieids)"
      ]
    },
    {
      "cell_type": "code",
      "execution_count": 102,
      "metadata": {},
      "outputs": [],
      "source": [
        "import json\n",
        "import requests\n",
        "from datetime import datetime, timedelta\n",
        "fetchdate = datetime.strftime(datetime.today() - timedelta(days=1), '%m_%d_%Y')\n",
        "def getGenres():\n",
        "    dataurl = f'https://api.themoviedb.org/3/genre/movie/list?api_key={apikey}'\n",
        "    data = json.loads(requests.get(dataurl).text)\n",
        "    genres = pd.DataFrame.from_dict(data['genres'])\n",
        "    return genres\n",
        "\n",
        "def extractAlltoDB():\n",
        "    print(\"Getting Genres\")\n",
        "    with pyodbc.connect(cstring) as conn:\n",
        "        query = \"select id from Genres\"\n",
        "        dbgenres = pd.read_sql(query, conn)\n",
        "        genres = getGenres()\n",
        "        genres = genres.query(\"id not in @dbgenres['id']\")   \n",
        "        \n",
        "    if genres.shape[0] > 0:\n",
        "        print(f\"Dumping {genres.shape[0]} records into Genres table\")\n",
        "        dataloader.inc_load_with_index(df=genres, tbl=\"Genres\",)\n",
        "    else:\n",
        "        print(\"No addition genres found\")"
      ]
    },
    {
      "cell_type": "code",
      "execution_count": 103,
      "metadata": {},
      "outputs": [
        {
          "name": "stdout",
          "output_type": "stream",
          "text": [
            "Getting Genres\n",
            "Dumping 0 records into Genres table\n",
            "No addition genres found\n"
          ]
        },
        {
          "name": "stderr",
          "output_type": "stream",
          "text": [
            "/var/folders/74/ndv7v28d3078l2cq22t43pkc0000gn/T/ipykernel_29871/2702218467.py:15: UserWarning: pandas only supports SQLAlchemy connectable (engine/connection) or database string URI or sqlite3 DBAPI2 connection. Other DBAPI2 objects are not tested. Please consider using SQLAlchemy.\n",
            "  dbgenres = pd.read_sql(query, conn)\n"
          ]
        }
      ],
      "source": [
        "extractAlltoDB()"
      ]
    },
    {
      "cell_type": "code",
      "execution_count": null,
      "metadata": {},
      "outputs": [],
      "source": []
    }
  ],
  "metadata": {
    "colab": {
      "authorship_tag": "ABX9TyMp+4wqHLY8eGofA/MefbVZ",
      "include_colab_link": true,
      "provenance": []
    },
    "kernelspec": {
      "display_name": "Python 3",
      "language": "python",
      "name": "python3"
    },
    "language_info": {
      "codemirror_mode": {
        "name": "ipython",
        "version": 3
      },
      "file_extension": ".py",
      "mimetype": "text/x-python",
      "name": "python",
      "nbconvert_exporter": "python",
      "pygments_lexer": "ipython3",
      "version": "3.10.8"
    },
    "vscode": {
      "interpreter": {
        "hash": "b0fa6594d8f4cbf19f97940f81e996739fb7646882a419484c72d19e05852a7e"
      }
    }
  },
  "nbformat": 4,
  "nbformat_minor": 0
}
