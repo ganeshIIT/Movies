{
 "cells": [
  {
   "cell_type": "code",
   "execution_count": 9,
   "metadata": {},
   "outputs": [],
   "source": [
    "import numpy as np\n",
    "import pandas as pd\n",
    "import json\n",
    "# from pandas.io.json import json_normalize\n",
    "import requests\n",
    "from datetime import datetime, timedelta\n",
    "from ast import literal_eval\n",
    "import dataloader\n",
    "import time\n",
    "import helper\n",
    "import pyodbc"
   ]
  },
  {
   "cell_type": "code",
   "execution_count": null,
   "metadata": {},
   "outputs": [],
   "source": [
    "apikey = helper.get_apikey()"
   ]
  },
  {
   "cell_type": "code",
   "execution_count": 2,
   "metadata": {},
   "outputs": [
    {
     "data": {
      "text/plain": [
       "'12_21_2022'"
      ]
     },
     "execution_count": 2,
     "metadata": {},
     "output_type": "execute_result"
    }
   ],
   "source": [
    "datetime.today()\n",
    "fetchdate = datetime.strftime(datetime.today() - timedelta(days=1), '%m_%d_%Y')\n",
    "fetchdate"
   ]
  },
  {
   "cell_type": "code",
   "execution_count": null,
   "metadata": {},
   "outputs": [],
   "source": []
  },
  {
   "cell_type": "code",
   "execution_count": 46,
   "metadata": {},
   "outputs": [
    {
     "name": "stdout",
     "output_type": "stream",
     "text": [
      "DataFrame full loaded to Table: Languages\n"
     ]
    }
   ],
   "source": [
    "dataurl = f'https://api.themoviedb.org/3/configuration/languages?api_key={apikey}'\n",
    "data = json.loads(requests.get(dataurl).text)\n",
    "languages = pd.DataFrame.from_dict(data).rename(columns={'iso_639_1': 'code'})\n",
    "custom = {\"code\": \"varchar(10) PRIMARY KEY\",}\n",
    "dataloader.full_load_with_index(df=languages, tbl=\"Languages\", custom=custom)"
   ]
  },
  {
   "cell_type": "code",
   "execution_count": 3,
   "metadata": {},
   "outputs": [
    {
     "name": "stderr",
     "output_type": "stream",
     "text": [
      "/var/folders/74/ndv7v28d3078l2cq22t43pkc0000gn/T/ipykernel_6989/2405849386.py:5: UserWarning: pandas only supports SQLAlchemy connectable (engine/connection) or database string URI or sqlite3 DBAPI2 connection. Other DBAPI2 objects are not tested. Please consider using SQLAlchemy.\n",
      "  ids = pd.read_sql(query, conn)\n"
     ]
    }
   ],
   "source": [
    "cstring = helper.get_connstring()\n",
    "with pyodbc.connect(cstring) as conn:\n",
    "    # query = \"select id from movieids\"\n",
    "    query = \"select id from movieids where id not in (select id from moviesraw)\"\n",
    "    ids = pd.read_sql(query, conn)"
   ]
  },
  {
   "cell_type": "code",
   "execution_count": null,
   "metadata": {},
   "outputs": [],
   "source": [
    "x=2\n",
    "y=1\n",
    "\n",
    "for chunk in np.array_split(ids['id'], 10000):\n",
    "    session = requests.Session()\n",
    "    df_movies = None \n",
    "    dfs=[]\n",
    "    for i in chunk:\n",
    "        print(f\"chunk: {x}, Record: {y}\") \n",
    "        dataurl = f'https://api.themoviedb.org/3/movie/{i}?api_key={apikey}'\n",
    "        data = json.loads(session.get(dataurl, stream=False).text)\n",
    "        df = pd.json_normalize(data)\n",
    "        dfs.append(df)\n",
    "        y+=1\n",
    "    \n",
    "    df_credits = pd.concat(dfs)\n",
    "\n",
    "    \n",
    "    \n",
    "    # df_movies['vote_average'] = [format(i, '.3f') for i in df_movies['vote_average']]\n",
    "    # df_movies['popularity'] = [format(i, '.3f') for i in df_movies['popularity']]\n",
    "    \n",
    "    # df_movies.to_csv('movies.csv', index=False)\n",
    "\n",
    "            \n",
    "    if x==1:   \n",
    "        custom = {\"id\": \"int PRIMARY KEY\", \"revenue\": \"bigint\", \"budget\": \"bigint\"}\n",
    "        dataloader.full_load_with_index(df=df_movies, tbl=\"MoviesRaw\", custom=custom)\n",
    "    else:\n",
    "        # df_movies = pd.read_csv('movies.csv', engine='python')\n",
    "        # print(df_movies.shape)\n",
    "        # df_movies.dropna(subset=['id'], axis=0, inplace=True)\n",
    "        # df_movies = df_movies.astype('object')\n",
    "        dataloader.inc_load_with_index(df=df_movies, tbl=\"MoviesRaw\")\n",
    "    print(f\"Loaded chunk: {x}\")  \n",
    "    x+=1\n",
    "    session.close()\n",
    "    del dfs\n",
    "    del session\n",
    "    "
   ]
  },
  {
   "cell_type": "code",
   "execution_count": 34,
   "metadata": {},
   "outputs": [],
   "source": [
    "dataurl = f'https://api.themoviedb.org/3/movie/{4951}/credits?api_key={apikey}'\n",
    "data = json.loads(requests.get(dataurl, stream=False).text)\n",
    "df = pd.json_normalize(data)\n",
    "df_cast = (\n",
    "    df[['id','cast']].assign(cast = lambda x: x['cast'].apply(lambda x: literal_eval(str(x))))\n",
    "      .explode('cast')\n",
    "      .dropna()\n",
    "      .assign(castid = lambda x: x['cast'].apply(lambda y: y['id']),\n",
    "              character = lambda x: x['cast'].apply(lambda y: y['character']),\n",
    "              )\n",
    "      .rename(columns={'id':'movieid'})\n",
    "      .drop('cast', axis=1)\n",
    "    )\n",
    "\n",
    "df_crew = (\n",
    "    df[['id','crew']].assign(crew = lambda x: x['crew'].apply(lambda x: literal_eval(str(x))))\n",
    "      .explode('crew')\n",
    "      .dropna()\n",
    "      .assign(crewid = lambda x: x['crew'].apply(lambda y: y['id']),\n",
    "              department = lambda x: x['crew'].apply(lambda y: y['department']),\n",
    "              )\n",
    "      .rename(columns={'id':'movieid'})\n",
    "      .drop('crew', axis=1)\n",
    "    )"
   ]
  },
  {
   "cell_type": "code",
   "execution_count": 38,
   "metadata": {},
   "outputs": [
    {
     "name": "stdout",
     "output_type": "stream",
     "text": [
      "<class 'pandas.core.frame.DataFrame'>\n",
      "Int64Index: 44 entries, 0 to 0\n",
      "Data columns (total 3 columns):\n",
      " #   Column     Non-Null Count  Dtype \n",
      "---  ------     --------------  ----- \n",
      " 0   movieid    44 non-null     int64 \n",
      " 1   castid     44 non-null     int64 \n",
      " 2   character  44 non-null     object\n",
      "dtypes: int64(2), object(1)\n",
      "memory usage: 1.4+ KB\n"
     ]
    }
   ],
   "source": [
    "df_cast.info()"
   ]
  },
  {
   "cell_type": "code",
   "execution_count": 39,
   "metadata": {},
   "outputs": [
    {
     "name": "stdout",
     "output_type": "stream",
     "text": [
      "<class 'pandas.core.frame.DataFrame'>\n",
      "Int64Index: 81 entries, 0 to 0\n",
      "Data columns (total 3 columns):\n",
      " #   Column      Non-Null Count  Dtype \n",
      "---  ------      --------------  ----- \n",
      " 0   movieid     81 non-null     int64 \n",
      " 1   crewid      81 non-null     int64 \n",
      " 2   department  81 non-null     object\n",
      "dtypes: int64(2), object(1)\n",
      "memory usage: 2.5+ KB\n"
     ]
    }
   ],
   "source": [
    "df_crew.info()"
   ]
  },
  {
   "cell_type": "code",
   "execution_count": null,
   "metadata": {},
   "outputs": [],
   "source": []
  }
 ],
 "metadata": {
  "kernelspec": {
   "display_name": "Python 3",
   "language": "python",
   "name": "python3"
  },
  "language_info": {
   "codemirror_mode": {
    "name": "ipython",
    "version": 3
   },
   "file_extension": ".py",
   "mimetype": "text/x-python",
   "name": "python",
   "nbconvert_exporter": "python",
   "pygments_lexer": "ipython3",
   "version": "3.10.8 (main, Oct 21 2022, 22:22:30) [Clang 14.0.0 (clang-1400.0.29.202)]"
  },
  "orig_nbformat": 4,
  "vscode": {
   "interpreter": {
    "hash": "908abd7e78fd4d71ba1be92795635fd82be5080a16e3cc7c1eae8bbfec458fa8"
   }
  }
 },
 "nbformat": 4,
 "nbformat_minor": 2
}
